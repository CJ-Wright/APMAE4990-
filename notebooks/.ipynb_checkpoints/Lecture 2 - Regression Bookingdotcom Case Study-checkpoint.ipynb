{
 "cells": [
  {
   "cell_type": "markdown",
   "metadata": {},
   "source": [
    "# Booking.com predicting sellouts\n",
    "\n",
    "The purpose of this notebook is to outline a model which predicts when a given hotel will sell out\n",
    "for a specified date.\n",
    "\n",
    "The outline of this notebook is as follows:\n",
    "\n",
    "### 1) Model 1 - Linear regression <br>\n",
    "1.1) Fake data generation<br>\n",
    "1.2) Model training<br>\n",
    "1.3 Performance evaluation<br>\n",
    "### 2) Model 2 - Poisson regression<br>\n",
    "2.1) Fake data generation<br>\n",
    "2.2) Model training<br>\n",
    "2.3) Performance evaluation<br>\n"
   ]
  },
  {
   "cell_type": "code",
   "execution_count": 2,
   "metadata": {
    "collapsed": false
   },
   "outputs": [
    {
     "name": "stderr",
     "output_type": "stream",
     "text": [
      "//anaconda/lib/python2.7/site-packages/sklearn/cross_validation.py:44: DeprecationWarning: This module was deprecated in version 0.18 in favor of the model_selection module into which all the refactored classes and functions are moved. Also note that the interface of the new CV iterators are different from that of this module. This module will be removed in 0.20.\n",
      "  \"This module will be removed in 0.20.\", DeprecationWarning)\n"
     ]
    }
   ],
   "source": [
    "# Necssary libraries\n",
    "import pandas as pd\n",
    "import statsmodels.api as sm\n",
    "from sklearn.cross_validation import KFold\n",
    "from sklearn.metrics import confusion_matrix\n",
    "from sklearn.preprocessing import StandardScaler\n",
    "from sklearn.linear_model import LogisticRegression\n",
    "from sklearn.svm import SVC\n",
    "from sklearn.ensemble import RandomForestClassifier as RF\n",
    "from sklearn.neighbors import KNeighborsClassifier as KNN\n",
    "import numpy as np\n",
    "import matplotlib.pyplot as plt\n",
    "from sklearn.metrics import roc_curve, auc\n",
    "from sklearn.utils import shuffle\n",
    "from sklearn.metrics import roc_curve, auc\n",
    "import pylab\n",
    "from sklearn import svm\n",
    "from sklearn.linear_model import LogisticRegression\n",
    "from sklearn.ensemble import RandomForestClassifier\n",
    "from mpl_toolkits.basemap import Basemap\n",
    "import re\n",
    "import pylab as plt\n",
    "import seaborn\n",
    "from sklearn.linear_model import LinearRegression\n",
    "import numpy.random as nprnd\n",
    "import random\n",
    "pd.set_option('display.max_columns', 500)\n",
    "%matplotlib inline"
   ]
  },
  {
   "cell_type": "markdown",
   "metadata": {},
   "source": [
    "# Simulated Data"
   ]
  },
  {
   "cell_type": "markdown",
   "metadata": {},
   "source": [
    "In this section we generate simulated data for the sake of demonstrating how we could train and validate a model. We use 5 features for this basic model:\n",
    "\n",
    "\n",
    "1) The number of rooms booked at the hotel in the past week.\n",
    "\n",
    "2) The rating of the hotel.\n",
    "\n",
    "3) The average price per night.\n",
    "\n",
    "4) The number of sell outs the hotel has had in the past year.\n",
    "\n",
    "5) The location rating.\n",
    "\n",
    "**Our goal on day $t$ is to predict the number of hotel rooms that will be available on day $t+1$, $t+2$, ... up to $t+5$.**\n"
   ]
  },
  {
   "cell_type": "code",
   "execution_count": 3,
   "metadata": {
    "collapsed": false
   },
   "outputs": [],
   "source": [
    "size=100000\n",
    "\n",
    "purchase_velocity_lastweek = nprnd.randint(0,500,size=size)\n",
    "\n",
    "hotel_rating = nprnd.randint(1,100,size=size).astype(float)/10\n",
    "\n",
    "price_per_night_avg = nprnd.randint(100,600,size=size)\n",
    "\n",
    "sellouts_total = nprnd.randint(1,10,size=size)\n",
    "\n",
    "location = nprnd.randint(1,100,size=size).astype(float)/10\n",
    "\n",
    "rooms_left = nprnd.randint(1,500,size=size)\n",
    "\n",
    "account_num = nprnd.randint(1,100000,size=size)\n",
    "date='2015-06-01'"
   ]
  },
  {
   "cell_type": "code",
   "execution_count": 4,
   "metadata": {
    "collapsed": true
   },
   "outputs": [],
   "source": [
    "df = pd.DataFrame({'hotel_rating':hotel_rating, 'location':location, 'price_per_night_avg':price_per_night_avg,'purchase_velocity_lastweek':purchase_velocity_lastweek,'rooms_left':rooms_left})"
   ]
  },
  {
   "cell_type": "code",
   "execution_count": 5,
   "metadata": {
    "collapsed": false
   },
   "outputs": [
    {
     "data": {
      "text/html": [
       "<div>\n",
       "<table border=\"1\" class=\"dataframe\">\n",
       "  <thead>\n",
       "    <tr style=\"text-align: right;\">\n",
       "      <th></th>\n",
       "      <th>hotel_rating</th>\n",
       "      <th>location</th>\n",
       "      <th>price_per_night_avg</th>\n",
       "      <th>purchase_velocity_lastweek</th>\n",
       "      <th>rooms_left</th>\n",
       "    </tr>\n",
       "  </thead>\n",
       "  <tbody>\n",
       "    <tr>\n",
       "      <th>0</th>\n",
       "      <td>9.8</td>\n",
       "      <td>1.3</td>\n",
       "      <td>267</td>\n",
       "      <td>192</td>\n",
       "      <td>51</td>\n",
       "    </tr>\n",
       "    <tr>\n",
       "      <th>1</th>\n",
       "      <td>7.6</td>\n",
       "      <td>9.2</td>\n",
       "      <td>366</td>\n",
       "      <td>411</td>\n",
       "      <td>464</td>\n",
       "    </tr>\n",
       "    <tr>\n",
       "      <th>2</th>\n",
       "      <td>0.8</td>\n",
       "      <td>0.6</td>\n",
       "      <td>117</td>\n",
       "      <td>275</td>\n",
       "      <td>415</td>\n",
       "    </tr>\n",
       "    <tr>\n",
       "      <th>3</th>\n",
       "      <td>6.7</td>\n",
       "      <td>5.8</td>\n",
       "      <td>317</td>\n",
       "      <td>101</td>\n",
       "      <td>450</td>\n",
       "    </tr>\n",
       "    <tr>\n",
       "      <th>4</th>\n",
       "      <td>2.0</td>\n",
       "      <td>5.9</td>\n",
       "      <td>389</td>\n",
       "      <td>379</td>\n",
       "      <td>299</td>\n",
       "    </tr>\n",
       "  </tbody>\n",
       "</table>\n",
       "</div>"
      ],
      "text/plain": [
       "   hotel_rating  location  price_per_night_avg  purchase_velocity_lastweek  \\\n",
       "0           9.8       1.3                  267                         192   \n",
       "1           7.6       9.2                  366                         411   \n",
       "2           0.8       0.6                  117                         275   \n",
       "3           6.7       5.8                  317                         101   \n",
       "4           2.0       5.9                  389                         379   \n",
       "\n",
       "   rooms_left  \n",
       "0          51  \n",
       "1         464  \n",
       "2         415  \n",
       "3         450  \n",
       "4         299  "
      ]
     },
     "execution_count": 5,
     "metadata": {},
     "output_type": "execute_result"
    }
   ],
   "source": [
    "df.head()"
   ]
  },
  {
   "cell_type": "markdown",
   "metadata": {},
   "source": [
    "# 1) Model 1 - Linear Regression"
   ]
  },
  {
   "cell_type": "markdown",
   "metadata": {},
   "source": [
    "We now generate the number of rooms left tomorrow as a linear function of the above features, but add in some Gaussian noise to \n",
    "the data to make it more realistic. "
   ]
  },
  {
   "cell_type": "markdown",
   "metadata": {},
   "source": [
    "$$ \\hat y = \\alpha_0 X_{t-1} + \\alpha_1 R + \\alpha_2 S + \\alpha_3 P + \\alpha_4 L $$\n",
    "\n",
    "$X_{t-1}$ is the number of rooms booked last week\n",
    "\n",
    "$ R $ is the raiting of the hotel \n",
    "\n",
    "$ S $ is the number of sellouts the hotel had last year\n",
    "\n",
    "$ P $ is the price of the room\n",
    "\n",
    "$ L $ is the location rating\n",
    "\n",
    "$ \\hat y $ is the number of rooms that will be booked tomorrow\n",
    "\n",
    "\n",
    "A more advanced model would be \n",
    "\n",
    "$$ \\hat y_h = \\alpha_k^h + \\alpha_1 R + \\alpha_2 S + \\alpha_3 P + \\alpha_4 L, $$\n",
    "\n",
    "where each hotel has its own coefficientsf for the AR component. \n",
    "\n",
    "\n"
   ]
  },
  {
   "cell_type": "markdown",
   "metadata": {},
   "source": [
    "### 1.1). Add Gaussian noise to simulated data.\n",
    "\n",
    "We write $$ \\hat y = \\alpha_0 X_{t-1} + \\alpha_1 R + \\alpha_2 S + \\alpha_3 P + \\alpha_4 L + N$$ where $N$ is sampled from a Guassian distribution. "
   ]
  },
  {
   "cell_type": "code",
   "execution_count": 630,
   "metadata": {
    "collapsed": false
   },
   "outputs": [],
   "source": [
    "rooms_sold = (0.9*purchase_velocity_lastweek + 0.8*hotel_rating + 0.7*sellouts_total + 0.6*price_per_night_avg + 0.4*location)/10\n",
    "\n",
    "noise = np.random.normal(0,8,size)\n",
    "\n",
    "rooms_sold=rooms_sold+noise"
   ]
  },
  {
   "cell_type": "code",
   "execution_count": 651,
   "metadata": {
    "collapsed": false
   },
   "outputs": [],
   "source": [
    "df = pd.DataFrame({'account': account_num, 'date':date, 'purchase_velocity_lastweek':purchase_velocity_lastweek, 'hotel_rating':hotel_rating,\n",
    "                   'price_per_night_avg':price_per_night_avg,'sellouts_total':sellouts_total,'location':location,'rooms_left':rooms_left})"
   ]
  },
  {
   "cell_type": "code",
   "execution_count": 652,
   "metadata": {
    "collapsed": false
   },
   "outputs": [
    {
     "data": {
      "text/html": [
       "<div>\n",
       "<table border=\"1\" class=\"dataframe\">\n",
       "  <thead>\n",
       "    <tr style=\"text-align: right;\">\n",
       "      <th></th>\n",
       "      <th>account</th>\n",
       "      <th>date</th>\n",
       "      <th>hotel_rating</th>\n",
       "      <th>location</th>\n",
       "      <th>price_per_night_avg</th>\n",
       "      <th>purchase_velocity_lastweek</th>\n",
       "      <th>rooms_left</th>\n",
       "      <th>sellouts_total</th>\n",
       "    </tr>\n",
       "  </thead>\n",
       "  <tbody>\n",
       "    <tr>\n",
       "      <th>0</th>\n",
       "      <td>66623</td>\n",
       "      <td>2015-06-01</td>\n",
       "      <td>5.4</td>\n",
       "      <td>8.9</td>\n",
       "      <td>598</td>\n",
       "      <td>246</td>\n",
       "      <td>173</td>\n",
       "      <td>7</td>\n",
       "    </tr>\n",
       "    <tr>\n",
       "      <th>1</th>\n",
       "      <td>74008</td>\n",
       "      <td>2015-06-01</td>\n",
       "      <td>9.4</td>\n",
       "      <td>0.8</td>\n",
       "      <td>281</td>\n",
       "      <td>298</td>\n",
       "      <td>180</td>\n",
       "      <td>9</td>\n",
       "    </tr>\n",
       "    <tr>\n",
       "      <th>2</th>\n",
       "      <td>16859</td>\n",
       "      <td>2015-06-01</td>\n",
       "      <td>9.9</td>\n",
       "      <td>0.6</td>\n",
       "      <td>423</td>\n",
       "      <td>408</td>\n",
       "      <td>153</td>\n",
       "      <td>1</td>\n",
       "    </tr>\n",
       "    <tr>\n",
       "      <th>3</th>\n",
       "      <td>15919</td>\n",
       "      <td>2015-06-01</td>\n",
       "      <td>2.4</td>\n",
       "      <td>9.6</td>\n",
       "      <td>334</td>\n",
       "      <td>374</td>\n",
       "      <td>2</td>\n",
       "      <td>2</td>\n",
       "    </tr>\n",
       "    <tr>\n",
       "      <th>4</th>\n",
       "      <td>15407</td>\n",
       "      <td>2015-06-01</td>\n",
       "      <td>0.2</td>\n",
       "      <td>5.8</td>\n",
       "      <td>247</td>\n",
       "      <td>246</td>\n",
       "      <td>290</td>\n",
       "      <td>8</td>\n",
       "    </tr>\n",
       "    <tr>\n",
       "      <th>5</th>\n",
       "      <td>37124</td>\n",
       "      <td>2015-06-01</td>\n",
       "      <td>5.7</td>\n",
       "      <td>3.5</td>\n",
       "      <td>250</td>\n",
       "      <td>205</td>\n",
       "      <td>286</td>\n",
       "      <td>9</td>\n",
       "    </tr>\n",
       "    <tr>\n",
       "      <th>6</th>\n",
       "      <td>66697</td>\n",
       "      <td>2015-06-01</td>\n",
       "      <td>6.6</td>\n",
       "      <td>0.8</td>\n",
       "      <td>233</td>\n",
       "      <td>360</td>\n",
       "      <td>454</td>\n",
       "      <td>2</td>\n",
       "    </tr>\n",
       "    <tr>\n",
       "      <th>7</th>\n",
       "      <td>23011</td>\n",
       "      <td>2015-06-01</td>\n",
       "      <td>0.2</td>\n",
       "      <td>3.4</td>\n",
       "      <td>441</td>\n",
       "      <td>459</td>\n",
       "      <td>341</td>\n",
       "      <td>7</td>\n",
       "    </tr>\n",
       "    <tr>\n",
       "      <th>8</th>\n",
       "      <td>37608</td>\n",
       "      <td>2015-06-01</td>\n",
       "      <td>6.9</td>\n",
       "      <td>7.6</td>\n",
       "      <td>242</td>\n",
       "      <td>380</td>\n",
       "      <td>134</td>\n",
       "      <td>8</td>\n",
       "    </tr>\n",
       "    <tr>\n",
       "      <th>9</th>\n",
       "      <td>58855</td>\n",
       "      <td>2015-06-01</td>\n",
       "      <td>0.1</td>\n",
       "      <td>6.6</td>\n",
       "      <td>237</td>\n",
       "      <td>114</td>\n",
       "      <td>315</td>\n",
       "      <td>4</td>\n",
       "    </tr>\n",
       "    <tr>\n",
       "      <th>10</th>\n",
       "      <td>52826</td>\n",
       "      <td>2015-06-01</td>\n",
       "      <td>2.3</td>\n",
       "      <td>8.8</td>\n",
       "      <td>241</td>\n",
       "      <td>51</td>\n",
       "      <td>362</td>\n",
       "      <td>8</td>\n",
       "    </tr>\n",
       "    <tr>\n",
       "      <th>11</th>\n",
       "      <td>75222</td>\n",
       "      <td>2015-06-01</td>\n",
       "      <td>7.6</td>\n",
       "      <td>5.5</td>\n",
       "      <td>500</td>\n",
       "      <td>276</td>\n",
       "      <td>409</td>\n",
       "      <td>8</td>\n",
       "    </tr>\n",
       "    <tr>\n",
       "      <th>12</th>\n",
       "      <td>51682</td>\n",
       "      <td>2015-06-01</td>\n",
       "      <td>5.3</td>\n",
       "      <td>9.1</td>\n",
       "      <td>324</td>\n",
       "      <td>365</td>\n",
       "      <td>242</td>\n",
       "      <td>3</td>\n",
       "    </tr>\n",
       "    <tr>\n",
       "      <th>13</th>\n",
       "      <td>55959</td>\n",
       "      <td>2015-06-01</td>\n",
       "      <td>6.4</td>\n",
       "      <td>7.3</td>\n",
       "      <td>280</td>\n",
       "      <td>211</td>\n",
       "      <td>205</td>\n",
       "      <td>2</td>\n",
       "    </tr>\n",
       "    <tr>\n",
       "      <th>14</th>\n",
       "      <td>6124</td>\n",
       "      <td>2015-06-01</td>\n",
       "      <td>4.1</td>\n",
       "      <td>7.6</td>\n",
       "      <td>243</td>\n",
       "      <td>14</td>\n",
       "      <td>321</td>\n",
       "      <td>6</td>\n",
       "    </tr>\n",
       "    <tr>\n",
       "      <th>15</th>\n",
       "      <td>53916</td>\n",
       "      <td>2015-06-01</td>\n",
       "      <td>9.3</td>\n",
       "      <td>9.2</td>\n",
       "      <td>321</td>\n",
       "      <td>54</td>\n",
       "      <td>28</td>\n",
       "      <td>2</td>\n",
       "    </tr>\n",
       "    <tr>\n",
       "      <th>16</th>\n",
       "      <td>39883</td>\n",
       "      <td>2015-06-01</td>\n",
       "      <td>6.2</td>\n",
       "      <td>7.6</td>\n",
       "      <td>460</td>\n",
       "      <td>356</td>\n",
       "      <td>21</td>\n",
       "      <td>8</td>\n",
       "    </tr>\n",
       "    <tr>\n",
       "      <th>17</th>\n",
       "      <td>41818</td>\n",
       "      <td>2015-06-01</td>\n",
       "      <td>9.3</td>\n",
       "      <td>4.7</td>\n",
       "      <td>132</td>\n",
       "      <td>124</td>\n",
       "      <td>110</td>\n",
       "      <td>4</td>\n",
       "    </tr>\n",
       "    <tr>\n",
       "      <th>18</th>\n",
       "      <td>10135</td>\n",
       "      <td>2015-06-01</td>\n",
       "      <td>2.3</td>\n",
       "      <td>4.9</td>\n",
       "      <td>516</td>\n",
       "      <td>129</td>\n",
       "      <td>27</td>\n",
       "      <td>1</td>\n",
       "    </tr>\n",
       "    <tr>\n",
       "      <th>19</th>\n",
       "      <td>62731</td>\n",
       "      <td>2015-06-01</td>\n",
       "      <td>8.0</td>\n",
       "      <td>8.5</td>\n",
       "      <td>450</td>\n",
       "      <td>416</td>\n",
       "      <td>314</td>\n",
       "      <td>8</td>\n",
       "    </tr>\n",
       "    <tr>\n",
       "      <th>20</th>\n",
       "      <td>68581</td>\n",
       "      <td>2015-06-01</td>\n",
       "      <td>7.1</td>\n",
       "      <td>7.2</td>\n",
       "      <td>429</td>\n",
       "      <td>477</td>\n",
       "      <td>87</td>\n",
       "      <td>4</td>\n",
       "    </tr>\n",
       "    <tr>\n",
       "      <th>21</th>\n",
       "      <td>45391</td>\n",
       "      <td>2015-06-01</td>\n",
       "      <td>3.6</td>\n",
       "      <td>7.9</td>\n",
       "      <td>315</td>\n",
       "      <td>100</td>\n",
       "      <td>410</td>\n",
       "      <td>3</td>\n",
       "    </tr>\n",
       "    <tr>\n",
       "      <th>22</th>\n",
       "      <td>7685</td>\n",
       "      <td>2015-06-01</td>\n",
       "      <td>7.4</td>\n",
       "      <td>6.5</td>\n",
       "      <td>411</td>\n",
       "      <td>125</td>\n",
       "      <td>67</td>\n",
       "      <td>9</td>\n",
       "    </tr>\n",
       "    <tr>\n",
       "      <th>23</th>\n",
       "      <td>17381</td>\n",
       "      <td>2015-06-01</td>\n",
       "      <td>4.1</td>\n",
       "      <td>2.5</td>\n",
       "      <td>115</td>\n",
       "      <td>157</td>\n",
       "      <td>373</td>\n",
       "      <td>3</td>\n",
       "    </tr>\n",
       "    <tr>\n",
       "      <th>24</th>\n",
       "      <td>8569</td>\n",
       "      <td>2015-06-01</td>\n",
       "      <td>7.0</td>\n",
       "      <td>4.3</td>\n",
       "      <td>489</td>\n",
       "      <td>288</td>\n",
       "      <td>291</td>\n",
       "      <td>2</td>\n",
       "    </tr>\n",
       "    <tr>\n",
       "      <th>25</th>\n",
       "      <td>82262</td>\n",
       "      <td>2015-06-01</td>\n",
       "      <td>3.1</td>\n",
       "      <td>7.5</td>\n",
       "      <td>571</td>\n",
       "      <td>380</td>\n",
       "      <td>234</td>\n",
       "      <td>8</td>\n",
       "    </tr>\n",
       "    <tr>\n",
       "      <th>26</th>\n",
       "      <td>47782</td>\n",
       "      <td>2015-06-01</td>\n",
       "      <td>6.6</td>\n",
       "      <td>6.4</td>\n",
       "      <td>447</td>\n",
       "      <td>48</td>\n",
       "      <td>298</td>\n",
       "      <td>6</td>\n",
       "    </tr>\n",
       "    <tr>\n",
       "      <th>27</th>\n",
       "      <td>12345</td>\n",
       "      <td>2015-06-01</td>\n",
       "      <td>8.1</td>\n",
       "      <td>4.1</td>\n",
       "      <td>392</td>\n",
       "      <td>7</td>\n",
       "      <td>143</td>\n",
       "      <td>5</td>\n",
       "    </tr>\n",
       "    <tr>\n",
       "      <th>28</th>\n",
       "      <td>64999</td>\n",
       "      <td>2015-06-01</td>\n",
       "      <td>6.2</td>\n",
       "      <td>5.2</td>\n",
       "      <td>149</td>\n",
       "      <td>473</td>\n",
       "      <td>43</td>\n",
       "      <td>1</td>\n",
       "    </tr>\n",
       "    <tr>\n",
       "      <th>29</th>\n",
       "      <td>96832</td>\n",
       "      <td>2015-06-01</td>\n",
       "      <td>8.9</td>\n",
       "      <td>6.3</td>\n",
       "      <td>480</td>\n",
       "      <td>373</td>\n",
       "      <td>49</td>\n",
       "      <td>4</td>\n",
       "    </tr>\n",
       "    <tr>\n",
       "      <th>...</th>\n",
       "      <td>...</td>\n",
       "      <td>...</td>\n",
       "      <td>...</td>\n",
       "      <td>...</td>\n",
       "      <td>...</td>\n",
       "      <td>...</td>\n",
       "      <td>...</td>\n",
       "      <td>...</td>\n",
       "    </tr>\n",
       "    <tr>\n",
       "      <th>99970</th>\n",
       "      <td>57443</td>\n",
       "      <td>2015-06-01</td>\n",
       "      <td>4.7</td>\n",
       "      <td>8.0</td>\n",
       "      <td>404</td>\n",
       "      <td>392</td>\n",
       "      <td>270</td>\n",
       "      <td>2</td>\n",
       "    </tr>\n",
       "    <tr>\n",
       "      <th>99971</th>\n",
       "      <td>24880</td>\n",
       "      <td>2015-06-01</td>\n",
       "      <td>9.2</td>\n",
       "      <td>5.2</td>\n",
       "      <td>562</td>\n",
       "      <td>44</td>\n",
       "      <td>376</td>\n",
       "      <td>4</td>\n",
       "    </tr>\n",
       "    <tr>\n",
       "      <th>99972</th>\n",
       "      <td>85855</td>\n",
       "      <td>2015-06-01</td>\n",
       "      <td>8.2</td>\n",
       "      <td>4.5</td>\n",
       "      <td>278</td>\n",
       "      <td>109</td>\n",
       "      <td>129</td>\n",
       "      <td>7</td>\n",
       "    </tr>\n",
       "    <tr>\n",
       "      <th>99973</th>\n",
       "      <td>50214</td>\n",
       "      <td>2015-06-01</td>\n",
       "      <td>6.8</td>\n",
       "      <td>4.9</td>\n",
       "      <td>156</td>\n",
       "      <td>92</td>\n",
       "      <td>230</td>\n",
       "      <td>9</td>\n",
       "    </tr>\n",
       "    <tr>\n",
       "      <th>99974</th>\n",
       "      <td>10589</td>\n",
       "      <td>2015-06-01</td>\n",
       "      <td>2.6</td>\n",
       "      <td>2.2</td>\n",
       "      <td>573</td>\n",
       "      <td>168</td>\n",
       "      <td>5</td>\n",
       "      <td>4</td>\n",
       "    </tr>\n",
       "    <tr>\n",
       "      <th>99975</th>\n",
       "      <td>65636</td>\n",
       "      <td>2015-06-01</td>\n",
       "      <td>8.9</td>\n",
       "      <td>2.0</td>\n",
       "      <td>123</td>\n",
       "      <td>445</td>\n",
       "      <td>378</td>\n",
       "      <td>7</td>\n",
       "    </tr>\n",
       "    <tr>\n",
       "      <th>99976</th>\n",
       "      <td>65885</td>\n",
       "      <td>2015-06-01</td>\n",
       "      <td>5.9</td>\n",
       "      <td>3.4</td>\n",
       "      <td>293</td>\n",
       "      <td>347</td>\n",
       "      <td>205</td>\n",
       "      <td>6</td>\n",
       "    </tr>\n",
       "    <tr>\n",
       "      <th>99977</th>\n",
       "      <td>21756</td>\n",
       "      <td>2015-06-01</td>\n",
       "      <td>3.7</td>\n",
       "      <td>8.3</td>\n",
       "      <td>429</td>\n",
       "      <td>369</td>\n",
       "      <td>24</td>\n",
       "      <td>6</td>\n",
       "    </tr>\n",
       "    <tr>\n",
       "      <th>99978</th>\n",
       "      <td>40124</td>\n",
       "      <td>2015-06-01</td>\n",
       "      <td>1.2</td>\n",
       "      <td>7.8</td>\n",
       "      <td>249</td>\n",
       "      <td>265</td>\n",
       "      <td>402</td>\n",
       "      <td>5</td>\n",
       "    </tr>\n",
       "    <tr>\n",
       "      <th>99979</th>\n",
       "      <td>41528</td>\n",
       "      <td>2015-06-01</td>\n",
       "      <td>0.3</td>\n",
       "      <td>3.0</td>\n",
       "      <td>510</td>\n",
       "      <td>264</td>\n",
       "      <td>183</td>\n",
       "      <td>3</td>\n",
       "    </tr>\n",
       "    <tr>\n",
       "      <th>99980</th>\n",
       "      <td>5365</td>\n",
       "      <td>2015-06-01</td>\n",
       "      <td>3.5</td>\n",
       "      <td>4.2</td>\n",
       "      <td>252</td>\n",
       "      <td>437</td>\n",
       "      <td>274</td>\n",
       "      <td>4</td>\n",
       "    </tr>\n",
       "    <tr>\n",
       "      <th>99981</th>\n",
       "      <td>99265</td>\n",
       "      <td>2015-06-01</td>\n",
       "      <td>1.3</td>\n",
       "      <td>1.9</td>\n",
       "      <td>541</td>\n",
       "      <td>241</td>\n",
       "      <td>217</td>\n",
       "      <td>9</td>\n",
       "    </tr>\n",
       "    <tr>\n",
       "      <th>99982</th>\n",
       "      <td>42269</td>\n",
       "      <td>2015-06-01</td>\n",
       "      <td>4.5</td>\n",
       "      <td>9.7</td>\n",
       "      <td>238</td>\n",
       "      <td>56</td>\n",
       "      <td>349</td>\n",
       "      <td>3</td>\n",
       "    </tr>\n",
       "    <tr>\n",
       "      <th>99983</th>\n",
       "      <td>37536</td>\n",
       "      <td>2015-06-01</td>\n",
       "      <td>5.3</td>\n",
       "      <td>1.8</td>\n",
       "      <td>537</td>\n",
       "      <td>475</td>\n",
       "      <td>241</td>\n",
       "      <td>8</td>\n",
       "    </tr>\n",
       "    <tr>\n",
       "      <th>99984</th>\n",
       "      <td>52992</td>\n",
       "      <td>2015-06-01</td>\n",
       "      <td>2.2</td>\n",
       "      <td>2.2</td>\n",
       "      <td>321</td>\n",
       "      <td>105</td>\n",
       "      <td>255</td>\n",
       "      <td>6</td>\n",
       "    </tr>\n",
       "    <tr>\n",
       "      <th>99985</th>\n",
       "      <td>50374</td>\n",
       "      <td>2015-06-01</td>\n",
       "      <td>1.7</td>\n",
       "      <td>4.6</td>\n",
       "      <td>469</td>\n",
       "      <td>286</td>\n",
       "      <td>45</td>\n",
       "      <td>3</td>\n",
       "    </tr>\n",
       "    <tr>\n",
       "      <th>99986</th>\n",
       "      <td>4738</td>\n",
       "      <td>2015-06-01</td>\n",
       "      <td>1.3</td>\n",
       "      <td>4.9</td>\n",
       "      <td>584</td>\n",
       "      <td>222</td>\n",
       "      <td>370</td>\n",
       "      <td>7</td>\n",
       "    </tr>\n",
       "    <tr>\n",
       "      <th>99987</th>\n",
       "      <td>9671</td>\n",
       "      <td>2015-06-01</td>\n",
       "      <td>6.9</td>\n",
       "      <td>4.1</td>\n",
       "      <td>289</td>\n",
       "      <td>48</td>\n",
       "      <td>145</td>\n",
       "      <td>9</td>\n",
       "    </tr>\n",
       "    <tr>\n",
       "      <th>99988</th>\n",
       "      <td>67723</td>\n",
       "      <td>2015-06-01</td>\n",
       "      <td>5.9</td>\n",
       "      <td>7.5</td>\n",
       "      <td>355</td>\n",
       "      <td>465</td>\n",
       "      <td>416</td>\n",
       "      <td>1</td>\n",
       "    </tr>\n",
       "    <tr>\n",
       "      <th>99989</th>\n",
       "      <td>73339</td>\n",
       "      <td>2015-06-01</td>\n",
       "      <td>0.7</td>\n",
       "      <td>2.5</td>\n",
       "      <td>220</td>\n",
       "      <td>160</td>\n",
       "      <td>391</td>\n",
       "      <td>8</td>\n",
       "    </tr>\n",
       "    <tr>\n",
       "      <th>99990</th>\n",
       "      <td>32202</td>\n",
       "      <td>2015-06-01</td>\n",
       "      <td>1.5</td>\n",
       "      <td>2.5</td>\n",
       "      <td>466</td>\n",
       "      <td>283</td>\n",
       "      <td>234</td>\n",
       "      <td>7</td>\n",
       "    </tr>\n",
       "    <tr>\n",
       "      <th>99991</th>\n",
       "      <td>49874</td>\n",
       "      <td>2015-06-01</td>\n",
       "      <td>9.7</td>\n",
       "      <td>2.7</td>\n",
       "      <td>177</td>\n",
       "      <td>467</td>\n",
       "      <td>260</td>\n",
       "      <td>7</td>\n",
       "    </tr>\n",
       "    <tr>\n",
       "      <th>99992</th>\n",
       "      <td>48972</td>\n",
       "      <td>2015-06-01</td>\n",
       "      <td>3.2</td>\n",
       "      <td>2.3</td>\n",
       "      <td>338</td>\n",
       "      <td>249</td>\n",
       "      <td>268</td>\n",
       "      <td>9</td>\n",
       "    </tr>\n",
       "    <tr>\n",
       "      <th>99993</th>\n",
       "      <td>36410</td>\n",
       "      <td>2015-06-01</td>\n",
       "      <td>5.4</td>\n",
       "      <td>3.1</td>\n",
       "      <td>188</td>\n",
       "      <td>413</td>\n",
       "      <td>106</td>\n",
       "      <td>6</td>\n",
       "    </tr>\n",
       "    <tr>\n",
       "      <th>99994</th>\n",
       "      <td>57299</td>\n",
       "      <td>2015-06-01</td>\n",
       "      <td>8.0</td>\n",
       "      <td>7.8</td>\n",
       "      <td>231</td>\n",
       "      <td>323</td>\n",
       "      <td>183</td>\n",
       "      <td>1</td>\n",
       "    </tr>\n",
       "    <tr>\n",
       "      <th>99995</th>\n",
       "      <td>25452</td>\n",
       "      <td>2015-06-01</td>\n",
       "      <td>5.1</td>\n",
       "      <td>5.1</td>\n",
       "      <td>180</td>\n",
       "      <td>419</td>\n",
       "      <td>379</td>\n",
       "      <td>9</td>\n",
       "    </tr>\n",
       "    <tr>\n",
       "      <th>99996</th>\n",
       "      <td>73931</td>\n",
       "      <td>2015-06-01</td>\n",
       "      <td>4.2</td>\n",
       "      <td>8.6</td>\n",
       "      <td>267</td>\n",
       "      <td>140</td>\n",
       "      <td>18</td>\n",
       "      <td>2</td>\n",
       "    </tr>\n",
       "    <tr>\n",
       "      <th>99997</th>\n",
       "      <td>18761</td>\n",
       "      <td>2015-06-01</td>\n",
       "      <td>5.1</td>\n",
       "      <td>6.8</td>\n",
       "      <td>199</td>\n",
       "      <td>313</td>\n",
       "      <td>314</td>\n",
       "      <td>3</td>\n",
       "    </tr>\n",
       "    <tr>\n",
       "      <th>99998</th>\n",
       "      <td>1409</td>\n",
       "      <td>2015-06-01</td>\n",
       "      <td>9.7</td>\n",
       "      <td>3.0</td>\n",
       "      <td>525</td>\n",
       "      <td>133</td>\n",
       "      <td>224</td>\n",
       "      <td>8</td>\n",
       "    </tr>\n",
       "    <tr>\n",
       "      <th>99999</th>\n",
       "      <td>24488</td>\n",
       "      <td>2015-06-01</td>\n",
       "      <td>8.0</td>\n",
       "      <td>8.9</td>\n",
       "      <td>386</td>\n",
       "      <td>424</td>\n",
       "      <td>168</td>\n",
       "      <td>2</td>\n",
       "    </tr>\n",
       "  </tbody>\n",
       "</table>\n",
       "<p>100000 rows × 8 columns</p>\n",
       "</div>"
      ],
      "text/plain": [
       "       account        date  hotel_rating  location  price_per_night_avg  \\\n",
       "0        66623  2015-06-01           5.4       8.9                  598   \n",
       "1        74008  2015-06-01           9.4       0.8                  281   \n",
       "2        16859  2015-06-01           9.9       0.6                  423   \n",
       "3        15919  2015-06-01           2.4       9.6                  334   \n",
       "4        15407  2015-06-01           0.2       5.8                  247   \n",
       "5        37124  2015-06-01           5.7       3.5                  250   \n",
       "6        66697  2015-06-01           6.6       0.8                  233   \n",
       "7        23011  2015-06-01           0.2       3.4                  441   \n",
       "8        37608  2015-06-01           6.9       7.6                  242   \n",
       "9        58855  2015-06-01           0.1       6.6                  237   \n",
       "10       52826  2015-06-01           2.3       8.8                  241   \n",
       "11       75222  2015-06-01           7.6       5.5                  500   \n",
       "12       51682  2015-06-01           5.3       9.1                  324   \n",
       "13       55959  2015-06-01           6.4       7.3                  280   \n",
       "14        6124  2015-06-01           4.1       7.6                  243   \n",
       "15       53916  2015-06-01           9.3       9.2                  321   \n",
       "16       39883  2015-06-01           6.2       7.6                  460   \n",
       "17       41818  2015-06-01           9.3       4.7                  132   \n",
       "18       10135  2015-06-01           2.3       4.9                  516   \n",
       "19       62731  2015-06-01           8.0       8.5                  450   \n",
       "20       68581  2015-06-01           7.1       7.2                  429   \n",
       "21       45391  2015-06-01           3.6       7.9                  315   \n",
       "22        7685  2015-06-01           7.4       6.5                  411   \n",
       "23       17381  2015-06-01           4.1       2.5                  115   \n",
       "24        8569  2015-06-01           7.0       4.3                  489   \n",
       "25       82262  2015-06-01           3.1       7.5                  571   \n",
       "26       47782  2015-06-01           6.6       6.4                  447   \n",
       "27       12345  2015-06-01           8.1       4.1                  392   \n",
       "28       64999  2015-06-01           6.2       5.2                  149   \n",
       "29       96832  2015-06-01           8.9       6.3                  480   \n",
       "...        ...         ...           ...       ...                  ...   \n",
       "99970    57443  2015-06-01           4.7       8.0                  404   \n",
       "99971    24880  2015-06-01           9.2       5.2                  562   \n",
       "99972    85855  2015-06-01           8.2       4.5                  278   \n",
       "99973    50214  2015-06-01           6.8       4.9                  156   \n",
       "99974    10589  2015-06-01           2.6       2.2                  573   \n",
       "99975    65636  2015-06-01           8.9       2.0                  123   \n",
       "99976    65885  2015-06-01           5.9       3.4                  293   \n",
       "99977    21756  2015-06-01           3.7       8.3                  429   \n",
       "99978    40124  2015-06-01           1.2       7.8                  249   \n",
       "99979    41528  2015-06-01           0.3       3.0                  510   \n",
       "99980     5365  2015-06-01           3.5       4.2                  252   \n",
       "99981    99265  2015-06-01           1.3       1.9                  541   \n",
       "99982    42269  2015-06-01           4.5       9.7                  238   \n",
       "99983    37536  2015-06-01           5.3       1.8                  537   \n",
       "99984    52992  2015-06-01           2.2       2.2                  321   \n",
       "99985    50374  2015-06-01           1.7       4.6                  469   \n",
       "99986     4738  2015-06-01           1.3       4.9                  584   \n",
       "99987     9671  2015-06-01           6.9       4.1                  289   \n",
       "99988    67723  2015-06-01           5.9       7.5                  355   \n",
       "99989    73339  2015-06-01           0.7       2.5                  220   \n",
       "99990    32202  2015-06-01           1.5       2.5                  466   \n",
       "99991    49874  2015-06-01           9.7       2.7                  177   \n",
       "99992    48972  2015-06-01           3.2       2.3                  338   \n",
       "99993    36410  2015-06-01           5.4       3.1                  188   \n",
       "99994    57299  2015-06-01           8.0       7.8                  231   \n",
       "99995    25452  2015-06-01           5.1       5.1                  180   \n",
       "99996    73931  2015-06-01           4.2       8.6                  267   \n",
       "99997    18761  2015-06-01           5.1       6.8                  199   \n",
       "99998     1409  2015-06-01           9.7       3.0                  525   \n",
       "99999    24488  2015-06-01           8.0       8.9                  386   \n",
       "\n",
       "       purchase_velocity_lastweek  rooms_left  sellouts_total  \n",
       "0                             246         173               7  \n",
       "1                             298         180               9  \n",
       "2                             408         153               1  \n",
       "3                             374           2               2  \n",
       "4                             246         290               8  \n",
       "5                             205         286               9  \n",
       "6                             360         454               2  \n",
       "7                             459         341               7  \n",
       "8                             380         134               8  \n",
       "9                             114         315               4  \n",
       "10                             51         362               8  \n",
       "11                            276         409               8  \n",
       "12                            365         242               3  \n",
       "13                            211         205               2  \n",
       "14                             14         321               6  \n",
       "15                             54          28               2  \n",
       "16                            356          21               8  \n",
       "17                            124         110               4  \n",
       "18                            129          27               1  \n",
       "19                            416         314               8  \n",
       "20                            477          87               4  \n",
       "21                            100         410               3  \n",
       "22                            125          67               9  \n",
       "23                            157         373               3  \n",
       "24                            288         291               2  \n",
       "25                            380         234               8  \n",
       "26                             48         298               6  \n",
       "27                              7         143               5  \n",
       "28                            473          43               1  \n",
       "29                            373          49               4  \n",
       "...                           ...         ...             ...  \n",
       "99970                         392         270               2  \n",
       "99971                          44         376               4  \n",
       "99972                         109         129               7  \n",
       "99973                          92         230               9  \n",
       "99974                         168           5               4  \n",
       "99975                         445         378               7  \n",
       "99976                         347         205               6  \n",
       "99977                         369          24               6  \n",
       "99978                         265         402               5  \n",
       "99979                         264         183               3  \n",
       "99980                         437         274               4  \n",
       "99981                         241         217               9  \n",
       "99982                          56         349               3  \n",
       "99983                         475         241               8  \n",
       "99984                         105         255               6  \n",
       "99985                         286          45               3  \n",
       "99986                         222         370               7  \n",
       "99987                          48         145               9  \n",
       "99988                         465         416               1  \n",
       "99989                         160         391               8  \n",
       "99990                         283         234               7  \n",
       "99991                         467         260               7  \n",
       "99992                         249         268               9  \n",
       "99993                         413         106               6  \n",
       "99994                         323         183               1  \n",
       "99995                         419         379               9  \n",
       "99996                         140          18               2  \n",
       "99997                         313         314               3  \n",
       "99998                         133         224               8  \n",
       "99999                         424         168               2  \n",
       "\n",
       "[100000 rows x 8 columns]"
      ]
     },
     "execution_count": 652,
     "metadata": {},
     "output_type": "execute_result"
    }
   ],
   "source": [
    "df"
   ]
  },
  {
   "cell_type": "code",
   "execution_count": 632,
   "metadata": {
    "collapsed": false
   },
   "outputs": [
    {
     "name": "stdout",
     "output_type": "stream",
     "text": [
      "Feature space holds 100000 observations and 6 features\n"
     ]
    }
   ],
   "source": [
    "# X are features and y is predictive variable\n",
    "X = df\n",
    "y=rooms_sold\n",
    "\n",
    "# Scale columns for regression.\n",
    "#scaler = StandardScaler()\n",
    "#X = X.as_matrix().astype(np.float)\n",
    "#X = scaler.fit_transform(X)\n",
    "\n",
    "print \"Feature space holds %d observations and %d features\" % X.shape"
   ]
  },
  {
   "cell_type": "code",
   "execution_count": 641,
   "metadata": {
    "collapsed": false
   },
   "outputs": [
    {
     "data": {
      "text/html": [
       "<div>\n",
       "<table border=\"1\" class=\"dataframe\">\n",
       "  <thead>\n",
       "    <tr style=\"text-align: right;\">\n",
       "      <th></th>\n",
       "      <th>hotel_rating</th>\n",
       "      <th>location</th>\n",
       "      <th>price_per_night_avg</th>\n",
       "      <th>purchase_velocity_lastweek</th>\n",
       "      <th>rooms_left</th>\n",
       "      <th>sellouts_total</th>\n",
       "    </tr>\n",
       "  </thead>\n",
       "  <tbody>\n",
       "    <tr>\n",
       "      <th>0</th>\n",
       "      <td>5.5</td>\n",
       "      <td>4.5</td>\n",
       "      <td>109</td>\n",
       "      <td>345</td>\n",
       "      <td>199</td>\n",
       "      <td>9</td>\n",
       "    </tr>\n",
       "    <tr>\n",
       "      <th>1</th>\n",
       "      <td>1.4</td>\n",
       "      <td>2.4</td>\n",
       "      <td>354</td>\n",
       "      <td>250</td>\n",
       "      <td>113</td>\n",
       "      <td>2</td>\n",
       "    </tr>\n",
       "    <tr>\n",
       "      <th>2</th>\n",
       "      <td>7.1</td>\n",
       "      <td>4.0</td>\n",
       "      <td>240</td>\n",
       "      <td>381</td>\n",
       "      <td>213</td>\n",
       "      <td>5</td>\n",
       "    </tr>\n",
       "    <tr>\n",
       "      <th>3</th>\n",
       "      <td>4.7</td>\n",
       "      <td>0.7</td>\n",
       "      <td>171</td>\n",
       "      <td>280</td>\n",
       "      <td>182</td>\n",
       "      <td>8</td>\n",
       "    </tr>\n",
       "    <tr>\n",
       "      <th>4</th>\n",
       "      <td>2.0</td>\n",
       "      <td>4.8</td>\n",
       "      <td>314</td>\n",
       "      <td>458</td>\n",
       "      <td>169</td>\n",
       "      <td>3</td>\n",
       "    </tr>\n",
       "  </tbody>\n",
       "</table>\n",
       "</div>"
      ],
      "text/plain": [
       "   hotel_rating  location  price_per_night_avg  purchase_velocity_lastweek  \\\n",
       "0           5.5       4.5                  109                         345   \n",
       "1           1.4       2.4                  354                         250   \n",
       "2           7.1       4.0                  240                         381   \n",
       "3           4.7       0.7                  171                         280   \n",
       "4           2.0       4.8                  314                         458   \n",
       "\n",
       "   rooms_left  sellouts_total  \n",
       "0         199               9  \n",
       "1         113               2  \n",
       "2         213               5  \n",
       "3         182               8  \n",
       "4         169               3  "
      ]
     },
     "execution_count": 641,
     "metadata": {},
     "output_type": "execute_result"
    }
   ],
   "source": [
    "df.head() # would you need 365 entries per hotel?"
   ]
  },
  {
   "cell_type": "markdown",
   "metadata": {},
   "source": [
    "### 2. Split into training and testing data and evaluate model on testing data"
   ]
  },
  {
   "cell_type": "code",
   "execution_count": 634,
   "metadata": {
    "collapsed": false
   },
   "outputs": [
    {
     "name": "stdout",
     "output_type": "stream",
     "text": [
      "('Coefficients: \\n', array([  7.19732079e-02,   4.30278779e-02,   6.00717352e-02,\n",
      "         9.01371446e-02,  -7.56655448e-05,   5.55775648e-02]))\n",
      "Residual sum of squares: 63.89\n",
      "Variance score: 0.79\n"
     ]
    }
   ],
   "source": [
    "# Split the data into training/testing sets\n",
    "X_train = X[0:int(size*0.8)]\n",
    "X_test = X[int(size*0.8):]\n",
    "\n",
    "# Split the targets into training/testing sets\n",
    "y_train = y[0:int(size*0.8)]\n",
    "y_test = y[int(size*0.8):]\n",
    "\n",
    "# Create linear regression object\n",
    "regr = LinearRegression()\n",
    "\n",
    "# Train the model using the training sets\n",
    "regr.fit(X_train, y_train)\n",
    "\n",
    "# The coefficients\n",
    "print('Coefficients: \\n', regr.coef_)\n",
    "# The mean square error\n",
    "print(\"Residual sum of squares: %.2f\"\n",
    "      % np.mean((regr.predict(X_test) - y_test) ** 2))\n",
    "# Explained variance score: 1 is perfect prediction\n",
    "print('Variance score: %.2f' % regr.score(X_test, y_test))"
   ]
  },
  {
   "cell_type": "code",
   "execution_count": 635,
   "metadata": {
    "collapsed": false
   },
   "outputs": [
    {
     "data": {
      "image/png": "[encoded data removed]",
      "text/plain": [
       "<matplotlib.figure.Figure at 0x13baeda10>"
      ]
     },
     "metadata": {},
     "output_type": "display_data"
    }
   ],
   "source": [
    "hist, bins = np.histogram(rooms_sold, bins=50)\n",
    "width = 0.7 * (bins[1] - bins[0])\n",
    "center = (bins[:-1] + bins[1:]) / 2\n",
    "plt.bar(center, hist, align='center', width=width)\n",
    "plt.show()"
   ]
  },
  {
   "cell_type": "markdown",
   "metadata": {},
   "source": [
    "### 3. Evaluate performance in terms of $R^2$ "
   ]
  },
  {
   "cell_type": "code",
   "execution_count": 636,
   "metadata": {
    "collapsed": false
   },
   "outputs": [
    {
     "data": {
      "text/plain": [
       "[<matplotlib.lines.Line2D at 0x14fdddf10>]"
      ]
     },
     "execution_count": 636,
     "metadata": {},
     "output_type": "execute_result"
    },
    {
     "data": {
      "image/png": "[encoded data removed]",
      "text/plain": [
       "<matplotlib.figure.Figure at 0x13eb4e850>"
      ]
     },
     "metadata": {},
     "output_type": "display_data"
    }
   ],
   "source": [
    "#plt.figure(figsize=(10,10))\n",
    "plt.title('R^2 of 0.8')\n",
    "plt.scatter(y_test,regr.predict(X_test))\n",
    "plt.plot(y_test,y_test)"
   ]
  },
  {
   "cell_type": "markdown",
   "metadata": {},
   "source": [
    "### 4. Predict for days into the future. "
   ]
  },
  {
   "cell_type": "code",
   "execution_count": 637,
   "metadata": {
    "collapsed": false
   },
   "outputs": [],
   "source": [
    "day1_predictions=regr.predict(X_test)\n",
    "X_test.loc[:,'purchase_velocity_lastweek'] += day1_predictions\n",
    "day2_predictions=regr.predict(X_test)\n",
    "X_test.loc[:,'purchase_velocity_lastweek'] += day2_predictions\n",
    "day3_predictions=regr.predict(X_test)\n",
    "X_test.loc[:,'purchase_velocity_lastweek'] += day3_predictions"
   ]
  },
  {
   "cell_type": "code",
   "execution_count": 638,
   "metadata": {
    "collapsed": false
   },
   "outputs": [],
   "source": [
    "X_test.loc[:,'day1']=day1_predictions\n",
    "X_test.loc[:,'day2']=day2_predictions\n",
    "X_test.loc[:,'day3']=day3_predictions\n",
    "\n",
    "def get_sellout_time(row):\n",
    "    \n",
    "    if row['day1']> row['rooms_left']:\n",
    "        return 1\n",
    "    elif row['day2'] > row['rooms_left']:\n",
    "        return 2\n",
    "    elif row['day3'] > row['rooms_left']:\n",
    "        return 3\n",
    "    else:\n",
    "        return -1\n",
    "\n",
    "X_test.loc[:,'sellout_days']=X_test.apply(lambda row : get_sellout_time(row),axis=1)"
   ]
  },
  {
   "cell_type": "code",
   "execution_count": 639,
   "metadata": {
    "collapsed": false
   },
   "outputs": [
    {
     "data": {
      "text/plain": [
       "<matplotlib.axes._subplots.AxesSubplot at 0x139726b50>"
      ]
     },
     "execution_count": 639,
     "metadata": {},
     "output_type": "execute_result"
    },
    {
     "data": {
      "image/png": "[encoded data removed]",
      "text/plain": [
       "<matplotlib.figure.Figure at 0x12d2e5290>"
      ]
     },
     "metadata": {},
     "output_type": "display_data"
    }
   ],
   "source": [
    "X_test['sellout_days'].hist()"
   ]
  },
  {
   "cell_type": "markdown",
   "metadata": {},
   "source": [
    "# Model 2 - Poisson Regression "
   ]
  },
  {
   "cell_type": "markdown",
   "metadata": {},
   "source": [
    "Since the event of booking a room is a low probability event given the number of people who see the room (most likely), the events are indepedent, and it is count data, it could be better modeled as a Poisson distribution.\n",
    "\n",
    "$$ \\log \\mathbb E(y | x) = \\alpha + \\beta \\cdot x $$\n",
    "\n",
    "$$ Y_{t+1} \\sim \\textrm{Pois}(\\mathbb E(y | x_{t} )) $$\n",
    "\n",
    "We assume here that:\n",
    "\n",
    "$$ \\log \\mathbb{E} (y_t | x) = 0.01 X_{t-1} $$.\n",
    "\n",
    "Additionally it also makes more sense to assume that $ \\log \\mathbb E(y | x) $ is non-negative. "
   ]
  },
  {
   "cell_type": "markdown",
   "metadata": {},
   "source": [
    "### 2.1) Generated simulated data"
   ]
  },
  {
   "cell_type": "code",
   "execution_count": 575,
   "metadata": {
    "collapsed": true
   },
   "outputs": [],
   "source": [
    "import numpy as np\n",
    "from scipy.stats import nbinom\n",
    "from scipy.stats import poisson"
   ]
  },
  {
   "cell_type": "code",
   "execution_count": 576,
   "metadata": {
    "collapsed": false
   },
   "outputs": [],
   "source": [
    "# Poisson Loglikliehood\n",
    "def _ll_nb2(y, X,beta):\n",
    "     mu = np.exp(np.dot(X,beta))\n",
    "     ll = poisson.logpmf(y, mu)\n",
    "     return ll"
   ]
  },
  {
   "cell_type": "code",
   "execution_count": 577,
   "metadata": {
    "collapsed": false
   },
   "outputs": [],
   "source": [
    "# Simple linear model \n",
    "rooms_sold_lambdas =np.exp( 0.01*purchase_velocity_lastweek ) \n",
    "rooms_sold=np.random.poisson(rooms_sold_lambdas)"
   ]
  },
  {
   "cell_type": "code",
   "execution_count": 578,
   "metadata": {
    "collapsed": false
   },
   "outputs": [
    {
     "data": {
      "image/png": "[encoded data removed]",
      "text/plain": [
       "<matplotlib.figure.Figure at 0x13e9ddb90>"
      ]
     },
     "metadata": {},
     "output_type": "display_data"
    }
   ],
   "source": [
    "hist, bins = np.histogram(rooms_sold, bins=50)\n",
    "width = 0.7 * (bins[1] - bins[0])\n",
    "center = (bins[:-1] + bins[1:]) / 2\n",
    "plt.bar(center, hist, align='center', width=width)\n",
    "plt.show()"
   ]
  },
  {
   "cell_type": "markdown",
   "metadata": {},
   "source": [
    "### 2. Split into training and testing data and evaluate model on testing data"
   ]
  },
  {
   "cell_type": "code",
   "execution_count": 579,
   "metadata": {
    "collapsed": false
   },
   "outputs": [],
   "source": [
    "# Time series\n",
    "y=rooms_sold\n",
    "X=df\n",
    "\n",
    "# Split the data into training/testing sets\n",
    "X_train = X[0:int(size*0.8)]\n",
    "X_test = X[int(size*0.8):]\n",
    "\n",
    "# Split the targets into training/testing sets\n",
    "y_train = y[0:int(size*0.8)]\n",
    "y_test = y[int(size*0.8):]"
   ]
  },
  {
   "cell_type": "code",
   "execution_count": 580,
   "metadata": {
    "collapsed": false
   },
   "outputs": [
    {
     "name": "stdout",
     "output_type": "stream",
     "text": [
      "Optimization terminated successfully.\n",
      "         Current function value: 2.651991\n",
      "         Iterations: 234\n",
      "         Function evaluations: 384\n"
     ]
    }
   ],
   "source": [
    "from statsmodels.base.model import GenericLikelihoodModel\n",
    "class NBin(GenericLikelihoodModel):\n",
    "     def __init__(self, endog, exog, **kwds):\n",
    "         super(NBin, self).__init__(endog, exog, **kwds)\n",
    "     def nloglikeobs(self, params): \n",
    "         ll = _ll_nb2(self.endog, self.exog, params)\n",
    "         return -ll\n",
    "     def fit(self, start_params=None, maxiter=100000, maxfun=5000, **kwds):\n",
    "         if start_params == None:\n",
    "             # Reasonable starting values\n",
    "             start_params = [0.001,0,0,0,0,0]\n",
    "             start_params[0] = np.log(self.endog.mean())\n",
    "         return super(NBin, self).fit(start_params=start_params,\n",
    "                                      maxiter=maxiter, maxfun=maxfun,\n",
    "                                      **kwds)\n",
    "     def predict(self,exog):\n",
    "         print 'hello'\n",
    "         return super(NBin,self).predict(exog)\n",
    "\n",
    "mod = NBin(y_train, X_train)\n",
    "res = mod.fit()"
   ]
  },
  {
   "cell_type": "markdown",
   "metadata": {},
   "source": [
    "### 3. Evaluate performance in terms of $R^2$ "
   ]
  },
  {
   "cell_type": "code",
   "execution_count": 593,
   "metadata": {
    "collapsed": false
   },
   "outputs": [],
   "source": [
    "predictions = np.exp(np.dot(X_test.values,res.params))"
   ]
  },
  {
   "cell_type": "code",
   "execution_count": 604,
   "metadata": {
    "collapsed": false
   },
   "outputs": [
    {
     "name": "stdout",
     "output_type": "stream",
     "text": [
      "0.975778913506\n"
     ]
    }
   ],
   "source": [
    "SSreg = np.mean((predictions - y_test) ** 2)\n",
    "SStot =  np.mean((y_test - np.mean(y_test)) ** 2)\n",
    "print 1 - SSreg/SStot"
   ]
  },
  {
   "cell_type": "code",
   "execution_count": 606,
   "metadata": {
    "collapsed": false
   },
   "outputs": [
    {
     "data": {
      "text/plain": [
       "<matplotlib.collections.PathCollection at 0x13a236d90>"
      ]
     },
     "execution_count": 606,
     "metadata": {},
     "output_type": "execute_result"
    },
    {
     "data": {
      "image/png": "[encoded data removed]",
      "text/plain": [
       "<matplotlib.figure.Figure at 0x13a299310>"
      ]
     },
     "metadata": {},
     "output_type": "display_data"
    }
   ],
   "source": [
    "r2 = (predictions - np.sum(()))\n",
    "plt.title('R^2 of 0.98')\n",
    "plt.plot(y_test,y_test)\n",
    "plt.scatter(predictions, y_test)"
   ]
  },
  {
   "cell_type": "code",
   "execution_count": 607,
   "metadata": {
    "collapsed": false
   },
   "outputs": [
    {
     "data": {
      "text/plain": [
       "<matplotlib.text.Text at 0x13d2e40d0>"
      ]
     },
     "execution_count": 607,
     "metadata": {},
     "output_type": "execute_result"
    },
    {
     "data": {
      "image/png": "[encoded data removed]",
      "text/plain": [
       "<matplotlib.figure.Figure at 0x13cfd9650>"
      ]
     },
     "metadata": {},
     "output_type": "display_data"
    }
   ],
   "source": [
    "fig = plt.figure()\n",
    "mu=np.mean(learned)\n",
    "ax = fig.add_subplot(111)\n",
    "x = stats.loggamma.rvs(c=2.5, size=500)\n",
    "stats.probplot(y, dist=stats.poisson, sparams=(mu), plot=ax)\n",
    "ax.set_title(\"Probplot for Poisson dist\")"
   ]
  },
  {
   "cell_type": "code",
   "execution_count": 608,
   "metadata": {
    "collapsed": false
   },
   "outputs": [
    {
     "data": {
      "text/plain": [
       "<matplotlib.text.Text at 0x14cf40fd0>"
      ]
     },
     "execution_count": 608,
     "metadata": {},
     "output_type": "execute_result"
    },
    {
     "data": {
      "image/png": "[encoded data removed]",
      "text/plain": [
       "<matplotlib.figure.Figure at 0x13d048550>"
      ]
     },
     "metadata": {},
     "output_type": "display_data"
    }
   ],
   "source": [
    "fig = plt.figure()\n",
    "mu=np.mean(learned)\n",
    "ax = fig.add_subplot(111)\n",
    "x = stats.loggamma.rvs(c=2.5, size=500)\n",
    "stats.probplot(y, dist=stats.norm, sparams=(mu), plot=ax)\n",
    "ax.set_title(\"Probplot for Normal dist\")"
   ]
  },
  {
   "cell_type": "markdown",
   "metadata": {},
   "source": [
    "# How would raw data be converted to this form?"
   ]
  },
  {
   "cell_type": "code",
   "execution_count": 117,
   "metadata": {
    "collapsed": true
   },
   "outputs": [],
   "source": [
    "# Predict number sold in next day, then day after that, etc."
   ]
  },
  {
   "cell_type": "code",
   "execution_count": 356,
   "metadata": {
    "collapsed": true
   },
   "outputs": [],
   "source": [
    "# SQL example\n",
    "dates = pd.date_range('2016-01-01', '2016-01-07', freq='H')"
   ]
  },
  {
   "cell_type": "code",
   "execution_count": 357,
   "metadata": {
    "collapsed": false
   },
   "outputs": [],
   "source": [
    "df_t = pd.DataFrame({'account':accounts},index=dates)"
   ]
  },
  {
   "cell_type": "code",
   "execution_count": 358,
   "metadata": {
    "collapsed": false
   },
   "outputs": [],
   "source": [
    "accounts = nprnd.randint(0,5,size=145)"
   ]
  },
  {
   "cell_type": "code",
   "execution_count": 354,
   "metadata": {
    "collapsed": true
   },
   "outputs": [],
   "source": [
    "#purchase_velocity_lastweek = nprnd.randint(0,500,size=size)\n",
    "size=145\n",
    "hotel_rating = nprnd.randint(1,100,size=size).astype(float)/10\n",
    "price_per_night = nprnd.randint(100,600,size=size)\n",
    "rooms_sold = nprnd.randint(1,10,size=size)\n",
    "location = nprnd.randint(1,100,size=size).astype(float)/10\n",
    "rooms_left = nprnd.randint(1,500,size=size)"
   ]
  },
  {
   "cell_type": "code",
   "execution_count": 400,
   "metadata": {
    "collapsed": false
   },
   "outputs": [],
   "source": [
    "def hotel_info(account):\n",
    "    # rating, price, soldsofar, location, roomsleft\n",
    "    if account== 0:\n",
    "        return 10, 200, 40, 8, 9\n",
    "    elif account== 1:\n",
    "        return 9, 300, 30, 7, 8\n",
    "    elif account== 2:\n",
    "        return 8, 400, 20, 5, 7\n",
    "    elif account== 3:\n",
    "        return 7, 500, 10, 6, 6\n",
    "    elif account== 4:\n",
    "        return 6, 600, 40, 4, 0\n",
    "    \n",
    "rating = [hotel_info(account)[0] + np.random.randint(1,2) for account in accounts]\n",
    "price = [hotel_info(account)[1] + np.random.randint(0,1) for account in accounts]\n",
    "#sold = [hotel_info(account)[2] for account in accounts]\n",
    "location = [hotel_info(account)[3] for account in accounts]\n",
    "#left = [hotel_info(account)[4] for account in accounts]"
   ]
  },
  {
   "cell_type": "code",
   "execution_count": 401,
   "metadata": {
    "collapsed": false
   },
   "outputs": [],
   "source": [
    "df_t = pd.DataFrame({'account':accounts,'rating':rating,'price':price,'location':location,'userid':range(0,len(df_t))},index=dates)"
   ]
  },
  {
   "cell_type": "code",
   "execution_count": 398,
   "metadata": {
    "collapsed": false
   },
   "outputs": [
    {
     "data": {
      "text/html": [
       "<div>\n",
       "<table border=\"1\" class=\"dataframe\">\n",
       "  <thead>\n",
       "    <tr style=\"text-align: right;\">\n",
       "      <th></th>\n",
       "      <th>account</th>\n",
       "      <th>location</th>\n",
       "      <th>price</th>\n",
       "      <th>rating</th>\n",
       "      <th>userid</th>\n",
       "    </tr>\n",
       "  </thead>\n",
       "  <tbody>\n",
       "    <tr>\n",
       "      <th>2016-01-01 00:00:00</th>\n",
       "      <td>2</td>\n",
       "      <td>5</td>\n",
       "      <td>400</td>\n",
       "      <td>8</td>\n",
       "      <td>0</td>\n",
       "    </tr>\n",
       "    <tr>\n",
       "      <th>2016-01-01 01:00:00</th>\n",
       "      <td>4</td>\n",
       "      <td>4</td>\n",
       "      <td>600</td>\n",
       "      <td>6</td>\n",
       "      <td>1</td>\n",
       "    </tr>\n",
       "    <tr>\n",
       "      <th>2016-01-01 02:00:00</th>\n",
       "      <td>2</td>\n",
       "      <td>5</td>\n",
       "      <td>400</td>\n",
       "      <td>8</td>\n",
       "      <td>2</td>\n",
       "    </tr>\n",
       "    <tr>\n",
       "      <th>2016-01-01 03:00:00</th>\n",
       "      <td>4</td>\n",
       "      <td>4</td>\n",
       "      <td>600</td>\n",
       "      <td>6</td>\n",
       "      <td>3</td>\n",
       "    </tr>\n",
       "    <tr>\n",
       "      <th>2016-01-01 04:00:00</th>\n",
       "      <td>2</td>\n",
       "      <td>5</td>\n",
       "      <td>400</td>\n",
       "      <td>8</td>\n",
       "      <td>4</td>\n",
       "    </tr>\n",
       "  </tbody>\n",
       "</table>\n",
       "</div>"
      ],
      "text/plain": [
       "                     account  location  price  rating  userid\n",
       "2016-01-01 00:00:00        2         5    400       8       0\n",
       "2016-01-01 01:00:00        4         4    600       6       1\n",
       "2016-01-01 02:00:00        2         5    400       8       2\n",
       "2016-01-01 03:00:00        4         4    600       6       3\n",
       "2016-01-01 04:00:00        2         5    400       8       4"
      ]
     },
     "execution_count": 398,
     "metadata": {},
     "output_type": "execute_result"
    }
   ],
   "source": [
    "df_t.head()"
   ]
  },
  {
   "cell_type": "code",
   "execution_count": 402,
   "metadata": {
    "collapsed": false
   },
   "outputs": [
    {
     "name": "stdout",
     "output_type": "stream",
     "text": [
      "account\n",
      "0    11\n",
      "1    10\n",
      "2     9\n",
      "3     8\n",
      "4     7\n",
      "Name: rating, dtype: int64\n",
      "account\n",
      "0    23\n",
      "1    27\n",
      "2    37\n",
      "3    25\n",
      "4    33\n",
      "dtype: int64\n"
     ]
    }
   ],
   "source": [
    "print df_t.groupby('account')['rating'].mean()\n",
    "print df_t.groupby('account').size()"
   ]
  },
  {
   "cell_type": "markdown",
   "metadata": {
    "collapsed": true
   },
   "source": [
    "\\begin{equation}\n",
    " \\frac{\\partial \\mathcal{L} (\\beta)}{\\partial \\beta_j} = \\frac{2}{N} \\sum_{i=1}^N (y_i - \\beta \\cdot x_i) x_{ij},\n",
    "\\end{equation}"
   ]
  },
  {
   "cell_type": "code",
   "execution_count": 27,
   "metadata": {
    "collapsed": false
   },
   "outputs": [
    {
     "data": {
      "text/latex": [
       "Then\n",
       "$$\n",
       " \\frac{\\partial \\mathcal{L} (\\beta)}{\\partial \\beta_j} = \\frac{2}{N} \\sum_{i=1}^N (y_i - \\beta \\cdot x_i) x_{ij},\n",
       "$$\n",
       "so our gradient descent takes the form\n",
       "\\begin{equation}\n",
       "\\beta_{n+1}^j = \\beta_n^j - \\gamma_n \\frac{2}{N} \\sum_{i=1}^N (y_i - \\beta \\cdot x_i) x_{ij}.\n",
       "\\end{equation}\n"
      ],
      "text/plain": [
       "<IPython.core.display.Latex object>"
      ]
     },
     "metadata": {},
     "output_type": "display_data"
    }
   ],
   "source": [
    "%%latex\n",
    "Then\n",
    "\n",
    " \\frac{\\partial \\mathcal{L} (\\beta)}{\\partial \\beta_j} = \\frac{2}{N} \\sum_{i=1}^N (y_i - \\beta \\cdot x_i) x_{ij},\n",
    "$$\n",
    "so our gradient descent takes the form\n",
    "\\begin{equation}\n",
    "\\beta_{n+1}^j = \\beta_n^j - \\gamma_n \\frac{2}{N} \\sum_{i=1}^N (y_i - \\beta \\cdot x_i) x_{ij}.\n",
    "\\end{equation}\n",
    "\n"
   ]
  },
  {
   "cell_type": "code",
   "execution_count": 2,
   "metadata": {
    "collapsed": false
   },
   "outputs": [
    {
     "data": {
      "text/latex": [
       "\\begin{align}\n",
       "\\nabla \\times \\vec{\\mathbf{B}} -\\, \\frac1c\\, \\frac{\\partial\\vec{\\mathbf{E}}}{\\partial t} & = \\frac{4\\pi}{c}\\vec{\\mathbf{j}} \\\\\n",
       "\\nabla \\cdot \\vec{\\mathbf{E}} & = 4 \\pi \\rho \\\\\n",
       "\\nabla \\times \\vec{\\mathbf{E}}\\, +\\, \\frac1c\\, \\frac{\\partial\\vec{\\mathbf{B}}}{\\partial t} & = \\vec{\\mathbf{0}} \\\\\n",
       "\\nabla \\cdot \\vec{\\mathbf{B}} & = 0\n",
       "\\end{align}"
      ],
      "text/plain": [
       "<IPython.core.display.Latex object>"
      ]
     },
     "metadata": {},
     "output_type": "display_data"
    }
   ],
   "source": [
    "%%latex\n",
    "\\begin{align}\n",
    "\\nabla \\times \\vec{\\mathbf{B}} -\\, \\frac1c\\, \\frac{\\partial\\vec{\\mathbf{E}}}{\\partial t} & = \\frac{4\\pi}{c}\\vec{\\mathbf{j}} \\\\\n",
    "\\nabla \\cdot \\vec{\\mathbf{E}} & = 4 \\pi \\rho \\\\\n",
    "\\nabla \\times \\vec{\\mathbf{E}}\\, +\\, \\frac1c\\, \\frac{\\partial\\vec{\\mathbf{B}}}{\\partial t} & = \\vec{\\mathbf{0}} \\\\\n",
    "\\nabla \\cdot \\vec{\\mathbf{B}} & = 0\n",
    "\\end{align}"
   ]
  }
 ],
 "metadata": {
  "anaconda-cloud": {},
  "kernelspec": {
   "display_name": "Python [default]",
   "language": "python",
   "name": "python2"
  },
  "language_info": {
   "codemirror_mode": {
    "name": "ipython",
    "version": 2
   },
   "file_extension": ".py",
   "mimetype": "text/x-python",
   "name": "python",
   "nbconvert_exporter": "python",
   "pygments_lexer": "ipython2",
   "version": "2.7.12"
  }
 },
 "nbformat": 4,
 "nbformat_minor": 0
}
