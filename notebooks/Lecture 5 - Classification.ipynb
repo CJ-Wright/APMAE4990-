{
 "cells": [
  {
   "cell_type": "code",
   "execution_count": 1,
   "metadata": {
    "collapsed": false
   },
   "outputs": [
    {
     "name": "stderr",
     "output_type": "stream",
     "text": [
      "//anaconda/lib/python2.7/site-packages/sklearn/cross_validation.py:44: DeprecationWarning: This module was deprecated in version 0.18 in favor of the model_selection module into which all the refactored classes and functions are moved. Also note that the interface of the new CV iterators are different from that of this module. This module will be removed in 0.20.\n",
      "  \"This module will be removed in 0.20.\", DeprecationWarning)\n"
     ]
    }
   ],
   "source": [
    "# Necssary libraries\n",
    "import pandas as pd\n",
    "import statsmodels.api as sm\n",
    "from sklearn.cross_validation import KFold\n",
    "from sklearn.metrics import confusion_matrix\n",
    "from sklearn.preprocessing import StandardScaler\n",
    "from sklearn.linear_model import LogisticRegression\n",
    "from sklearn.svm import SVC\n",
    "from sklearn.ensemble import RandomForestClassifier as RF\n",
    "from sklearn.neighbors import KNeighborsClassifier as KNN\n",
    "import numpy as np\n",
    "import matplotlib.pyplot as plt\n",
    "from sklearn.metrics import roc_curve, auc\n",
    "from sklearn.utils import shuffle\n",
    "from sklearn.metrics import roc_curve, auc\n",
    "import pylab\n",
    "from sklearn import svm\n",
    "from sklearn.linear_model import LogisticRegression\n",
    "from sklearn.linear_model import Ridge\n",
    "from sklearn.ensemble import RandomForestClassifier\n",
    "from mpl_toolkits.basemap import Basemap\n",
    "import re\n",
    "import pylab as plt\n",
    "import seaborn\n",
    "from sklearn.linear_model import LinearRegression\n",
    "import numpy.random as nprnd\n",
    "pd.set_option('display.max_columns', 500)\n",
    "%matplotlib inline\n",
    "import random\n",
    "size=10"
   ]
  },
  {
   "cell_type": "code",
   "execution_count": 240,
   "metadata": {
    "collapsed": false
   },
   "outputs": [
    {
     "data": {
      "text/plain": [
       "'\\nage: continuous.\\nworkclass: Private, Self-emp-not-inc, Self-emp-inc, Federal-gov, Local-gov, State-gov, Without-pay, Never-worked.\\nfnlwgt: continuous.\\neducation: Bachelors, Some-college, 11th, HS-grad, Prof-school, Assoc-acdm, Assoc-voc, 9th, 7th-8th, 12th, Masters, 1st-4th, 10th, Doctorate, 5th-6th, Preschool.\\neducation-num: continuous.\\nmarital-status: Married-civ-spouse, Divorced, Never-married, Separated, Widowed, Married-spouse-absent, Married-AF-spouse.\\noccupation: Tech-support, Craft-repair, Other-service, Sales, Exec-managerial, Prof-specialty, Handlers-cleaners, Machine-op-inspct, Adm-clerical, Farming-fishing, Transport-moving, Priv-house-serv, Protective-serv, Armed-Forces.\\nrelationship: Wife, Own-child, Husband, Not-in-family, Other-relative, Unmarried.\\nrace: White, Asian-Pac-Islander, Amer-Indian-Eskimo, Other, Black.\\nsex: Female, Male.\\ncapital-gain: continuous.\\ncapital-loss: continuous.\\nhours-per-week: continuous.\\nnative-country: United-States, Cambodia, England, Puerto-Rico, Canada, Germany, Outlying-US(Guam-USVI-etc), India, Japan, Greece, South, China, Cuba, Iran, Honduras, Philippines, Italy, Poland, Jamaica, Vietnam, Mexico, Portugal, Ireland, France, Dominican-Republic, Laos, Ecuador, Taiwan, Haiti, Columbia, Hungary, Guatemala, Nicaragua, Scotland, Thailand, Yugoslavia, El-Salvador, Trinadad&Tobago, Peru, Hong, Holand-Netherlands.'"
      ]
     },
     "execution_count": 240,
     "metadata": {},
     "output_type": "execute_result"
    }
   ],
   "source": [
    "\"\"\"\n",
    "age: continuous.\n",
    "workclass: Private, Self-emp-not-inc, Self-emp-inc, Federal-gov, Local-gov, State-gov, Without-pay, Never-worked.\n",
    "fnlwgt: continuous.\n",
    "education: Bachelors, Some-college, 11th, HS-grad, Prof-school, Assoc-acdm, Assoc-voc, 9th, 7th-8th, 12th, Masters, 1st-4th, 10th, Doctorate, 5th-6th, Preschool.\n",
    "education-num: continuous.\n",
    "marital-status: Married-civ-spouse, Divorced, Never-married, Separated, Widowed, Married-spouse-absent, Married-AF-spouse.\n",
    "occupation: Tech-support, Craft-repair, Other-service, Sales, Exec-managerial, Prof-specialty, Handlers-cleaners, Machine-op-inspct, Adm-clerical, Farming-fishing, Transport-moving, Priv-house-serv, Protective-serv, Armed-Forces.\n",
    "relationship: Wife, Own-child, Husband, Not-in-family, Other-relative, Unmarried.\n",
    "race: White, Asian-Pac-Islander, Amer-Indian-Eskimo, Other, Black.\n",
    "sex: Female, Male.\n",
    "capital-gain: continuous.\n",
    "capital-loss: continuous.\n",
    "hours-per-week: continuous.\n",
    "native-country: United-States, Cambodia, England, Puerto-Rico, Canada, Germany, Outlying-US(Guam-USVI-etc), India, Japan, Greece, South, China, Cuba, Iran, Honduras, Philippines, Italy, Poland, Jamaica, Vietnam, Mexico, Portugal, Ireland, France, Dominican-Republic, Laos, Ecuador, Taiwan, Haiti, Columbia, Hungary, Guatemala, Nicaragua, Scotland, Thailand, Yugoslavia, El-Salvador, Trinadad&Tobago, Peru, Hong, Holand-Netherlands.\"\"\""
   ]
  },
  {
   "cell_type": "markdown",
   "metadata": {},
   "source": [
    "# Read in Data "
   ]
  },
  {
   "cell_type": "code",
   "execution_count": 2,
   "metadata": {
    "collapsed": true
   },
   "outputs": [],
   "source": [
    "colnames=['Age','Workclass','Sector','Education','Education-num','Marital-Status','Occupation','Relationship','Race','Sex','Capital-Gain','Capital-Loss','Hours-Per-Week','Native-Country','y']\n",
    "df =pd.read_csv('https://archive.ics.uci.edu/ml/machine-learning-databases/adult/adult.data',names=colnames)"
   ]
  },
  {
   "cell_type": "code",
   "execution_count": 3,
   "metadata": {
    "collapsed": false
   },
   "outputs": [
    {
     "data": {
      "text/html": [
       "<div>\n",
       "<table border=\"1\" class=\"dataframe\">\n",
       "  <thead>\n",
       "    <tr style=\"text-align: right;\">\n",
       "      <th></th>\n",
       "      <th>Age</th>\n",
       "      <th>Workclass</th>\n",
       "      <th>Sector</th>\n",
       "      <th>Education</th>\n",
       "      <th>Education-num</th>\n",
       "      <th>Marital-Status</th>\n",
       "      <th>Occupation</th>\n",
       "      <th>Relationship</th>\n",
       "      <th>Race</th>\n",
       "      <th>Sex</th>\n",
       "      <th>Capital-Gain</th>\n",
       "      <th>Capital-Loss</th>\n",
       "      <th>Hours-Per-Week</th>\n",
       "      <th>Native-Country</th>\n",
       "      <th>y</th>\n",
       "    </tr>\n",
       "  </thead>\n",
       "  <tbody>\n",
       "    <tr>\n",
       "      <th>0</th>\n",
       "      <td>39</td>\n",
       "      <td>State-gov</td>\n",
       "      <td>77516</td>\n",
       "      <td>Bachelors</td>\n",
       "      <td>13</td>\n",
       "      <td>Never-married</td>\n",
       "      <td>Adm-clerical</td>\n",
       "      <td>Not-in-family</td>\n",
       "      <td>White</td>\n",
       "      <td>Male</td>\n",
       "      <td>2174</td>\n",
       "      <td>0</td>\n",
       "      <td>40</td>\n",
       "      <td>United-States</td>\n",
       "      <td>&lt;=50K</td>\n",
       "    </tr>\n",
       "    <tr>\n",
       "      <th>1</th>\n",
       "      <td>50</td>\n",
       "      <td>Self-emp-not-inc</td>\n",
       "      <td>83311</td>\n",
       "      <td>Bachelors</td>\n",
       "      <td>13</td>\n",
       "      <td>Married-civ-spouse</td>\n",
       "      <td>Exec-managerial</td>\n",
       "      <td>Husband</td>\n",
       "      <td>White</td>\n",
       "      <td>Male</td>\n",
       "      <td>0</td>\n",
       "      <td>0</td>\n",
       "      <td>13</td>\n",
       "      <td>United-States</td>\n",
       "      <td>&lt;=50K</td>\n",
       "    </tr>\n",
       "    <tr>\n",
       "      <th>2</th>\n",
       "      <td>38</td>\n",
       "      <td>Private</td>\n",
       "      <td>215646</td>\n",
       "      <td>HS-grad</td>\n",
       "      <td>9</td>\n",
       "      <td>Divorced</td>\n",
       "      <td>Handlers-cleaners</td>\n",
       "      <td>Not-in-family</td>\n",
       "      <td>White</td>\n",
       "      <td>Male</td>\n",
       "      <td>0</td>\n",
       "      <td>0</td>\n",
       "      <td>40</td>\n",
       "      <td>United-States</td>\n",
       "      <td>&lt;=50K</td>\n",
       "    </tr>\n",
       "    <tr>\n",
       "      <th>3</th>\n",
       "      <td>53</td>\n",
       "      <td>Private</td>\n",
       "      <td>234721</td>\n",
       "      <td>11th</td>\n",
       "      <td>7</td>\n",
       "      <td>Married-civ-spouse</td>\n",
       "      <td>Handlers-cleaners</td>\n",
       "      <td>Husband</td>\n",
       "      <td>Black</td>\n",
       "      <td>Male</td>\n",
       "      <td>0</td>\n",
       "      <td>0</td>\n",
       "      <td>40</td>\n",
       "      <td>United-States</td>\n",
       "      <td>&lt;=50K</td>\n",
       "    </tr>\n",
       "    <tr>\n",
       "      <th>4</th>\n",
       "      <td>28</td>\n",
       "      <td>Private</td>\n",
       "      <td>338409</td>\n",
       "      <td>Bachelors</td>\n",
       "      <td>13</td>\n",
       "      <td>Married-civ-spouse</td>\n",
       "      <td>Prof-specialty</td>\n",
       "      <td>Wife</td>\n",
       "      <td>Black</td>\n",
       "      <td>Female</td>\n",
       "      <td>0</td>\n",
       "      <td>0</td>\n",
       "      <td>40</td>\n",
       "      <td>Cuba</td>\n",
       "      <td>&lt;=50K</td>\n",
       "    </tr>\n",
       "  </tbody>\n",
       "</table>\n",
       "</div>"
      ],
      "text/plain": [
       "   Age          Workclass  Sector   Education  Education-num  \\\n",
       "0   39          State-gov   77516   Bachelors             13   \n",
       "1   50   Self-emp-not-inc   83311   Bachelors             13   \n",
       "2   38            Private  215646     HS-grad              9   \n",
       "3   53            Private  234721        11th              7   \n",
       "4   28            Private  338409   Bachelors             13   \n",
       "\n",
       "        Marital-Status          Occupation    Relationship    Race      Sex  \\\n",
       "0        Never-married        Adm-clerical   Not-in-family   White     Male   \n",
       "1   Married-civ-spouse     Exec-managerial         Husband   White     Male   \n",
       "2             Divorced   Handlers-cleaners   Not-in-family   White     Male   \n",
       "3   Married-civ-spouse   Handlers-cleaners         Husband   Black     Male   \n",
       "4   Married-civ-spouse      Prof-specialty            Wife   Black   Female   \n",
       "\n",
       "   Capital-Gain  Capital-Loss  Hours-Per-Week  Native-Country       y  \n",
       "0          2174             0              40   United-States   <=50K  \n",
       "1             0             0              13   United-States   <=50K  \n",
       "2             0             0              40   United-States   <=50K  \n",
       "3             0             0              40   United-States   <=50K  \n",
       "4             0             0              40            Cuba   <=50K  "
      ]
     },
     "execution_count": 3,
     "metadata": {},
     "output_type": "execute_result"
    }
   ],
   "source": [
    "df.head()"
   ]
  },
  {
   "cell_type": "markdown",
   "metadata": {},
   "source": [
    "# Make Data Categorical "
   ]
  },
  {
   "cell_type": "code",
   "execution_count": 4,
   "metadata": {
    "collapsed": false
   },
   "outputs": [],
   "source": [
    "df_workclass=pd.get_dummies(df['Workclass'])\n",
    "df_sector=pd.get_dummies(df['Sector'])\n",
    "df_education=pd.get_dummies(df['Education'])\n",
    "df_occupation=pd.get_dummies(df['Occupation'])\n",
    "df_relationship = pd.get_dummies(df['Relationship'])\n",
    "df_race = pd.get_dummies(df['Sex'])\n",
    "df_country=pd.get_dummies(df['Native-Country'])"
   ]
  },
  {
   "cell_type": "code",
   "execution_count": 5,
   "metadata": {
    "collapsed": false
   },
   "outputs": [],
   "source": [
    "df_final = pd.concat([df[['Age','Capital-Gain','Capital-Loss']],df_workclass,df_education,df_relationship,df_race,df_country],axis=1)"
   ]
  },
  {
   "cell_type": "code",
   "execution_count": 6,
   "metadata": {
    "collapsed": false
   },
   "outputs": [],
   "source": [
    "df_final=df_final.drop(['?'],1)"
   ]
  },
  {
   "cell_type": "code",
   "execution_count": 7,
   "metadata": {
    "collapsed": false
   },
   "outputs": [
    {
     "data": {
      "text/html": [
       "<div>\n",
       "<table border=\"1\" class=\"dataframe\">\n",
       "  <thead>\n",
       "    <tr style=\"text-align: right;\">\n",
       "      <th></th>\n",
       "      <th>Age</th>\n",
       "      <th>Capital-Gain</th>\n",
       "      <th>Capital-Loss</th>\n",
       "      <th>?</th>\n",
       "      <th>Federal-gov</th>\n",
       "      <th>Local-gov</th>\n",
       "      <th>Never-worked</th>\n",
       "      <th>Private</th>\n",
       "      <th>Self-emp-inc</th>\n",
       "      <th>Self-emp-not-inc</th>\n",
       "      <th>State-gov</th>\n",
       "      <th>Without-pay</th>\n",
       "      <th>10th</th>\n",
       "      <th>11th</th>\n",
       "      <th>12th</th>\n",
       "      <th>1st-4th</th>\n",
       "      <th>5th-6th</th>\n",
       "      <th>7th-8th</th>\n",
       "      <th>9th</th>\n",
       "      <th>Assoc-acdm</th>\n",
       "      <th>Assoc-voc</th>\n",
       "      <th>Bachelors</th>\n",
       "      <th>Doctorate</th>\n",
       "      <th>HS-grad</th>\n",
       "      <th>Masters</th>\n",
       "      <th>Preschool</th>\n",
       "      <th>Prof-school</th>\n",
       "      <th>Some-college</th>\n",
       "      <th>Husband</th>\n",
       "      <th>Not-in-family</th>\n",
       "      <th>Other-relative</th>\n",
       "      <th>Own-child</th>\n",
       "      <th>Unmarried</th>\n",
       "      <th>Wife</th>\n",
       "      <th>Female</th>\n",
       "      <th>Male</th>\n",
       "      <th>?</th>\n",
       "      <th>Cambodia</th>\n",
       "      <th>Canada</th>\n",
       "      <th>China</th>\n",
       "      <th>Columbia</th>\n",
       "      <th>Cuba</th>\n",
       "      <th>Dominican-Republic</th>\n",
       "      <th>Ecuador</th>\n",
       "      <th>El-Salvador</th>\n",
       "      <th>England</th>\n",
       "      <th>France</th>\n",
       "      <th>Germany</th>\n",
       "      <th>Greece</th>\n",
       "      <th>Guatemala</th>\n",
       "      <th>Haiti</th>\n",
       "      <th>Holand-Netherlands</th>\n",
       "      <th>Honduras</th>\n",
       "      <th>Hong</th>\n",
       "      <th>Hungary</th>\n",
       "      <th>India</th>\n",
       "      <th>Iran</th>\n",
       "      <th>Ireland</th>\n",
       "      <th>Italy</th>\n",
       "      <th>Jamaica</th>\n",
       "      <th>Japan</th>\n",
       "      <th>Laos</th>\n",
       "      <th>Mexico</th>\n",
       "      <th>Nicaragua</th>\n",
       "      <th>Outlying-US(Guam-USVI-etc)</th>\n",
       "      <th>Peru</th>\n",
       "      <th>Philippines</th>\n",
       "      <th>Poland</th>\n",
       "      <th>Portugal</th>\n",
       "      <th>Puerto-Rico</th>\n",
       "      <th>Scotland</th>\n",
       "      <th>South</th>\n",
       "      <th>Taiwan</th>\n",
       "      <th>Thailand</th>\n",
       "      <th>Trinadad&amp;Tobago</th>\n",
       "      <th>United-States</th>\n",
       "      <th>Vietnam</th>\n",
       "      <th>Yugoslavia</th>\n",
       "    </tr>\n",
       "  </thead>\n",
       "  <tbody>\n",
       "    <tr>\n",
       "      <th>0</th>\n",
       "      <td>39</td>\n",
       "      <td>2174</td>\n",
       "      <td>0</td>\n",
       "      <td>0</td>\n",
       "      <td>0</td>\n",
       "      <td>0</td>\n",
       "      <td>0</td>\n",
       "      <td>0</td>\n",
       "      <td>0</td>\n",
       "      <td>0</td>\n",
       "      <td>1</td>\n",
       "      <td>0</td>\n",
       "      <td>0</td>\n",
       "      <td>0</td>\n",
       "      <td>0</td>\n",
       "      <td>0</td>\n",
       "      <td>0</td>\n",
       "      <td>0</td>\n",
       "      <td>0</td>\n",
       "      <td>0</td>\n",
       "      <td>0</td>\n",
       "      <td>1</td>\n",
       "      <td>0</td>\n",
       "      <td>0</td>\n",
       "      <td>0</td>\n",
       "      <td>0</td>\n",
       "      <td>0</td>\n",
       "      <td>0</td>\n",
       "      <td>0</td>\n",
       "      <td>1</td>\n",
       "      <td>0</td>\n",
       "      <td>0</td>\n",
       "      <td>0</td>\n",
       "      <td>0</td>\n",
       "      <td>0</td>\n",
       "      <td>1</td>\n",
       "      <td>0</td>\n",
       "      <td>0</td>\n",
       "      <td>0</td>\n",
       "      <td>0</td>\n",
       "      <td>0</td>\n",
       "      <td>0</td>\n",
       "      <td>0</td>\n",
       "      <td>0</td>\n",
       "      <td>0</td>\n",
       "      <td>0</td>\n",
       "      <td>0</td>\n",
       "      <td>0</td>\n",
       "      <td>0</td>\n",
       "      <td>0</td>\n",
       "      <td>0</td>\n",
       "      <td>0</td>\n",
       "      <td>0</td>\n",
       "      <td>0</td>\n",
       "      <td>0</td>\n",
       "      <td>0</td>\n",
       "      <td>0</td>\n",
       "      <td>0</td>\n",
       "      <td>0</td>\n",
       "      <td>0</td>\n",
       "      <td>0</td>\n",
       "      <td>0</td>\n",
       "      <td>0</td>\n",
       "      <td>0</td>\n",
       "      <td>0</td>\n",
       "      <td>0</td>\n",
       "      <td>0</td>\n",
       "      <td>0</td>\n",
       "      <td>0</td>\n",
       "      <td>0</td>\n",
       "      <td>0</td>\n",
       "      <td>0</td>\n",
       "      <td>0</td>\n",
       "      <td>0</td>\n",
       "      <td>0</td>\n",
       "      <td>1</td>\n",
       "      <td>0</td>\n",
       "      <td>0</td>\n",
       "    </tr>\n",
       "    <tr>\n",
       "      <th>1</th>\n",
       "      <td>50</td>\n",
       "      <td>0</td>\n",
       "      <td>0</td>\n",
       "      <td>0</td>\n",
       "      <td>0</td>\n",
       "      <td>0</td>\n",
       "      <td>0</td>\n",
       "      <td>0</td>\n",
       "      <td>0</td>\n",
       "      <td>1</td>\n",
       "      <td>0</td>\n",
       "      <td>0</td>\n",
       "      <td>0</td>\n",
       "      <td>0</td>\n",
       "      <td>0</td>\n",
       "      <td>0</td>\n",
       "      <td>0</td>\n",
       "      <td>0</td>\n",
       "      <td>0</td>\n",
       "      <td>0</td>\n",
       "      <td>0</td>\n",
       "      <td>1</td>\n",
       "      <td>0</td>\n",
       "      <td>0</td>\n",
       "      <td>0</td>\n",
       "      <td>0</td>\n",
       "      <td>0</td>\n",
       "      <td>0</td>\n",
       "      <td>1</td>\n",
       "      <td>0</td>\n",
       "      <td>0</td>\n",
       "      <td>0</td>\n",
       "      <td>0</td>\n",
       "      <td>0</td>\n",
       "      <td>0</td>\n",
       "      <td>1</td>\n",
       "      <td>0</td>\n",
       "      <td>0</td>\n",
       "      <td>0</td>\n",
       "      <td>0</td>\n",
       "      <td>0</td>\n",
       "      <td>0</td>\n",
       "      <td>0</td>\n",
       "      <td>0</td>\n",
       "      <td>0</td>\n",
       "      <td>0</td>\n",
       "      <td>0</td>\n",
       "      <td>0</td>\n",
       "      <td>0</td>\n",
       "      <td>0</td>\n",
       "      <td>0</td>\n",
       "      <td>0</td>\n",
       "      <td>0</td>\n",
       "      <td>0</td>\n",
       "      <td>0</td>\n",
       "      <td>0</td>\n",
       "      <td>0</td>\n",
       "      <td>0</td>\n",
       "      <td>0</td>\n",
       "      <td>0</td>\n",
       "      <td>0</td>\n",
       "      <td>0</td>\n",
       "      <td>0</td>\n",
       "      <td>0</td>\n",
       "      <td>0</td>\n",
       "      <td>0</td>\n",
       "      <td>0</td>\n",
       "      <td>0</td>\n",
       "      <td>0</td>\n",
       "      <td>0</td>\n",
       "      <td>0</td>\n",
       "      <td>0</td>\n",
       "      <td>0</td>\n",
       "      <td>0</td>\n",
       "      <td>0</td>\n",
       "      <td>1</td>\n",
       "      <td>0</td>\n",
       "      <td>0</td>\n",
       "    </tr>\n",
       "    <tr>\n",
       "      <th>2</th>\n",
       "      <td>38</td>\n",
       "      <td>0</td>\n",
       "      <td>0</td>\n",
       "      <td>0</td>\n",
       "      <td>0</td>\n",
       "      <td>0</td>\n",
       "      <td>0</td>\n",
       "      <td>1</td>\n",
       "      <td>0</td>\n",
       "      <td>0</td>\n",
       "      <td>0</td>\n",
       "      <td>0</td>\n",
       "      <td>0</td>\n",
       "      <td>0</td>\n",
       "      <td>0</td>\n",
       "      <td>0</td>\n",
       "      <td>0</td>\n",
       "      <td>0</td>\n",
       "      <td>0</td>\n",
       "      <td>0</td>\n",
       "      <td>0</td>\n",
       "      <td>0</td>\n",
       "      <td>0</td>\n",
       "      <td>1</td>\n",
       "      <td>0</td>\n",
       "      <td>0</td>\n",
       "      <td>0</td>\n",
       "      <td>0</td>\n",
       "      <td>0</td>\n",
       "      <td>1</td>\n",
       "      <td>0</td>\n",
       "      <td>0</td>\n",
       "      <td>0</td>\n",
       "      <td>0</td>\n",
       "      <td>0</td>\n",
       "      <td>1</td>\n",
       "      <td>0</td>\n",
       "      <td>0</td>\n",
       "      <td>0</td>\n",
       "      <td>0</td>\n",
       "      <td>0</td>\n",
       "      <td>0</td>\n",
       "      <td>0</td>\n",
       "      <td>0</td>\n",
       "      <td>0</td>\n",
       "      <td>0</td>\n",
       "      <td>0</td>\n",
       "      <td>0</td>\n",
       "      <td>0</td>\n",
       "      <td>0</td>\n",
       "      <td>0</td>\n",
       "      <td>0</td>\n",
       "      <td>0</td>\n",
       "      <td>0</td>\n",
       "      <td>0</td>\n",
       "      <td>0</td>\n",
       "      <td>0</td>\n",
       "      <td>0</td>\n",
       "      <td>0</td>\n",
       "      <td>0</td>\n",
       "      <td>0</td>\n",
       "      <td>0</td>\n",
       "      <td>0</td>\n",
       "      <td>0</td>\n",
       "      <td>0</td>\n",
       "      <td>0</td>\n",
       "      <td>0</td>\n",
       "      <td>0</td>\n",
       "      <td>0</td>\n",
       "      <td>0</td>\n",
       "      <td>0</td>\n",
       "      <td>0</td>\n",
       "      <td>0</td>\n",
       "      <td>0</td>\n",
       "      <td>0</td>\n",
       "      <td>1</td>\n",
       "      <td>0</td>\n",
       "      <td>0</td>\n",
       "    </tr>\n",
       "    <tr>\n",
       "      <th>3</th>\n",
       "      <td>53</td>\n",
       "      <td>0</td>\n",
       "      <td>0</td>\n",
       "      <td>0</td>\n",
       "      <td>0</td>\n",
       "      <td>0</td>\n",
       "      <td>0</td>\n",
       "      <td>1</td>\n",
       "      <td>0</td>\n",
       "      <td>0</td>\n",
       "      <td>0</td>\n",
       "      <td>0</td>\n",
       "      <td>0</td>\n",
       "      <td>1</td>\n",
       "      <td>0</td>\n",
       "      <td>0</td>\n",
       "      <td>0</td>\n",
       "      <td>0</td>\n",
       "      <td>0</td>\n",
       "      <td>0</td>\n",
       "      <td>0</td>\n",
       "      <td>0</td>\n",
       "      <td>0</td>\n",
       "      <td>0</td>\n",
       "      <td>0</td>\n",
       "      <td>0</td>\n",
       "      <td>0</td>\n",
       "      <td>0</td>\n",
       "      <td>1</td>\n",
       "      <td>0</td>\n",
       "      <td>0</td>\n",
       "      <td>0</td>\n",
       "      <td>0</td>\n",
       "      <td>0</td>\n",
       "      <td>0</td>\n",
       "      <td>1</td>\n",
       "      <td>0</td>\n",
       "      <td>0</td>\n",
       "      <td>0</td>\n",
       "      <td>0</td>\n",
       "      <td>0</td>\n",
       "      <td>0</td>\n",
       "      <td>0</td>\n",
       "      <td>0</td>\n",
       "      <td>0</td>\n",
       "      <td>0</td>\n",
       "      <td>0</td>\n",
       "      <td>0</td>\n",
       "      <td>0</td>\n",
       "      <td>0</td>\n",
       "      <td>0</td>\n",
       "      <td>0</td>\n",
       "      <td>0</td>\n",
       "      <td>0</td>\n",
       "      <td>0</td>\n",
       "      <td>0</td>\n",
       "      <td>0</td>\n",
       "      <td>0</td>\n",
       "      <td>0</td>\n",
       "      <td>0</td>\n",
       "      <td>0</td>\n",
       "      <td>0</td>\n",
       "      <td>0</td>\n",
       "      <td>0</td>\n",
       "      <td>0</td>\n",
       "      <td>0</td>\n",
       "      <td>0</td>\n",
       "      <td>0</td>\n",
       "      <td>0</td>\n",
       "      <td>0</td>\n",
       "      <td>0</td>\n",
       "      <td>0</td>\n",
       "      <td>0</td>\n",
       "      <td>0</td>\n",
       "      <td>0</td>\n",
       "      <td>1</td>\n",
       "      <td>0</td>\n",
       "      <td>0</td>\n",
       "    </tr>\n",
       "    <tr>\n",
       "      <th>4</th>\n",
       "      <td>28</td>\n",
       "      <td>0</td>\n",
       "      <td>0</td>\n",
       "      <td>0</td>\n",
       "      <td>0</td>\n",
       "      <td>0</td>\n",
       "      <td>0</td>\n",
       "      <td>1</td>\n",
       "      <td>0</td>\n",
       "      <td>0</td>\n",
       "      <td>0</td>\n",
       "      <td>0</td>\n",
       "      <td>0</td>\n",
       "      <td>0</td>\n",
       "      <td>0</td>\n",
       "      <td>0</td>\n",
       "      <td>0</td>\n",
       "      <td>0</td>\n",
       "      <td>0</td>\n",
       "      <td>0</td>\n",
       "      <td>0</td>\n",
       "      <td>1</td>\n",
       "      <td>0</td>\n",
       "      <td>0</td>\n",
       "      <td>0</td>\n",
       "      <td>0</td>\n",
       "      <td>0</td>\n",
       "      <td>0</td>\n",
       "      <td>0</td>\n",
       "      <td>0</td>\n",
       "      <td>0</td>\n",
       "      <td>0</td>\n",
       "      <td>0</td>\n",
       "      <td>1</td>\n",
       "      <td>1</td>\n",
       "      <td>0</td>\n",
       "      <td>0</td>\n",
       "      <td>0</td>\n",
       "      <td>0</td>\n",
       "      <td>0</td>\n",
       "      <td>0</td>\n",
       "      <td>1</td>\n",
       "      <td>0</td>\n",
       "      <td>0</td>\n",
       "      <td>0</td>\n",
       "      <td>0</td>\n",
       "      <td>0</td>\n",
       "      <td>0</td>\n",
       "      <td>0</td>\n",
       "      <td>0</td>\n",
       "      <td>0</td>\n",
       "      <td>0</td>\n",
       "      <td>0</td>\n",
       "      <td>0</td>\n",
       "      <td>0</td>\n",
       "      <td>0</td>\n",
       "      <td>0</td>\n",
       "      <td>0</td>\n",
       "      <td>0</td>\n",
       "      <td>0</td>\n",
       "      <td>0</td>\n",
       "      <td>0</td>\n",
       "      <td>0</td>\n",
       "      <td>0</td>\n",
       "      <td>0</td>\n",
       "      <td>0</td>\n",
       "      <td>0</td>\n",
       "      <td>0</td>\n",
       "      <td>0</td>\n",
       "      <td>0</td>\n",
       "      <td>0</td>\n",
       "      <td>0</td>\n",
       "      <td>0</td>\n",
       "      <td>0</td>\n",
       "      <td>0</td>\n",
       "      <td>0</td>\n",
       "      <td>0</td>\n",
       "      <td>0</td>\n",
       "    </tr>\n",
       "  </tbody>\n",
       "</table>\n",
       "</div>"
      ],
      "text/plain": [
       "   Age  Capital-Gain  Capital-Loss   ?   Federal-gov   Local-gov  \\\n",
       "0   39          2174             0   0             0           0   \n",
       "1   50             0             0   0             0           0   \n",
       "2   38             0             0   0             0           0   \n",
       "3   53             0             0   0             0           0   \n",
       "4   28             0             0   0             0           0   \n",
       "\n",
       "    Never-worked   Private   Self-emp-inc   Self-emp-not-inc   State-gov  \\\n",
       "0              0         0              0                  0           1   \n",
       "1              0         0              0                  1           0   \n",
       "2              0         1              0                  0           0   \n",
       "3              0         1              0                  0           0   \n",
       "4              0         1              0                  0           0   \n",
       "\n",
       "    Without-pay   10th   11th   12th   1st-4th   5th-6th   7th-8th   9th  \\\n",
       "0             0      0      0      0         0         0         0     0   \n",
       "1             0      0      0      0         0         0         0     0   \n",
       "2             0      0      0      0         0         0         0     0   \n",
       "3             0      0      1      0         0         0         0     0   \n",
       "4             0      0      0      0         0         0         0     0   \n",
       "\n",
       "    Assoc-acdm   Assoc-voc   Bachelors   Doctorate   HS-grad   Masters  \\\n",
       "0            0           0           1           0         0         0   \n",
       "1            0           0           1           0         0         0   \n",
       "2            0           0           0           0         1         0   \n",
       "3            0           0           0           0         0         0   \n",
       "4            0           0           1           0         0         0   \n",
       "\n",
       "    Preschool   Prof-school   Some-college   Husband   Not-in-family  \\\n",
       "0           0             0              0         0               1   \n",
       "1           0             0              0         1               0   \n",
       "2           0             0              0         0               1   \n",
       "3           0             0              0         1               0   \n",
       "4           0             0              0         0               0   \n",
       "\n",
       "    Other-relative   Own-child   Unmarried   Wife   Female   Male   ?  \\\n",
       "0                0           0           0      0        0      1   0   \n",
       "1                0           0           0      0        0      1   0   \n",
       "2                0           0           0      0        0      1   0   \n",
       "3                0           0           0      0        0      1   0   \n",
       "4                0           0           0      1        1      0   0   \n",
       "\n",
       "    Cambodia   Canada   China   Columbia   Cuba   Dominican-Republic  \\\n",
       "0          0        0       0          0      0                    0   \n",
       "1          0        0       0          0      0                    0   \n",
       "2          0        0       0          0      0                    0   \n",
       "3          0        0       0          0      0                    0   \n",
       "4          0        0       0          0      1                    0   \n",
       "\n",
       "    Ecuador   El-Salvador   England   France   Germany   Greece   Guatemala  \\\n",
       "0         0             0         0        0         0        0           0   \n",
       "1         0             0         0        0         0        0           0   \n",
       "2         0             0         0        0         0        0           0   \n",
       "3         0             0         0        0         0        0           0   \n",
       "4         0             0         0        0         0        0           0   \n",
       "\n",
       "    Haiti   Holand-Netherlands   Honduras   Hong   Hungary   India   Iran  \\\n",
       "0       0                    0          0      0         0       0      0   \n",
       "1       0                    0          0      0         0       0      0   \n",
       "2       0                    0          0      0         0       0      0   \n",
       "3       0                    0          0      0         0       0      0   \n",
       "4       0                    0          0      0         0       0      0   \n",
       "\n",
       "    Ireland   Italy   Jamaica   Japan   Laos   Mexico   Nicaragua  \\\n",
       "0         0       0         0       0      0        0           0   \n",
       "1         0       0         0       0      0        0           0   \n",
       "2         0       0         0       0      0        0           0   \n",
       "3         0       0         0       0      0        0           0   \n",
       "4         0       0         0       0      0        0           0   \n",
       "\n",
       "    Outlying-US(Guam-USVI-etc)   Peru   Philippines   Poland   Portugal  \\\n",
       "0                            0      0             0        0          0   \n",
       "1                            0      0             0        0          0   \n",
       "2                            0      0             0        0          0   \n",
       "3                            0      0             0        0          0   \n",
       "4                            0      0             0        0          0   \n",
       "\n",
       "    Puerto-Rico   Scotland   South   Taiwan   Thailand   Trinadad&Tobago  \\\n",
       "0             0          0       0        0          0                 0   \n",
       "1             0          0       0        0          0                 0   \n",
       "2             0          0       0        0          0                 0   \n",
       "3             0          0       0        0          0                 0   \n",
       "4             0          0       0        0          0                 0   \n",
       "\n",
       "    United-States   Vietnam   Yugoslavia  \n",
       "0               1         0            0  \n",
       "1               1         0            0  \n",
       "2               1         0            0  \n",
       "3               1         0            0  \n",
       "4               0         0            0  "
      ]
     },
     "execution_count": 7,
     "metadata": {},
     "output_type": "execute_result"
    }
   ],
   "source": [
    "df_final.head()"
   ]
  },
  {
   "cell_type": "code",
   "execution_count": 9,
   "metadata": {
    "collapsed": false
   },
   "outputs": [],
   "source": [
    "def get_y(y):\n",
    "    if y.find(\"<=\")>-1:\n",
    "        return 0\n",
    "    else:\n",
    "        return 1"
   ]
  },
  {
   "cell_type": "markdown",
   "metadata": {},
   "source": [
    "# Compute AUC ROC"
   ]
  },
  {
   "cell_type": "code",
   "execution_count": 10,
   "metadata": {
    "collapsed": false
   },
   "outputs": [
    {
     "name": "stdout",
     "output_type": "stream",
     "text": [
      "Area under the ROC curve : 0.885329\n"
     ]
    },
    {
     "data": {
      "image/png": "[encoded data removed]",
      "text/plain": [
       "<matplotlib.figure.Figure at 0x11459b850>"
      ]
     },
     "metadata": {},
     "output_type": "display_data"
    }
   ],
   "source": [
    "# X are features and y is predictive variable - cancelled HD or not.\n",
    "X = df_final\n",
    "y = df['y'].apply(lambda y : get_y(y))\n",
    "\n",
    "# K-fold cross validation for model selection.\n",
    "def run_cv(X,y,clf_class,**kwargs):\n",
    "    # Construct a kfolds object\n",
    "    kf = KFold(len(y),n_folds=5,shuffle=True)\n",
    "    y_pred = y.copy()\n",
    "   \n",
    "    # Iterate through folds\n",
    "    for train_index, test_index in kf:\n",
    "        X_train, X_test = X[train_index], X[test_index]\n",
    "        y_train = y[train_index]\n",
    "        # Initialize a classifier with key word arguments\n",
    "        clf = clf_class(**kwargs)\n",
    "        clf.fit(X_train,y_train)\n",
    "        y_pred[test_index] = clf.predict(X_test)\n",
    "    return y_pred\n",
    "# Scale columns for regression.\n",
    "#scaler = StandardScaler()\n",
    "#X = X.as_matrix().astype(np.float)\n",
    "#X = scaler.fit_transform(X)\n",
    "\n",
    "# Computes the AUC ROC of the classifier.\n",
    "def generate_auc(X,y,clf_class,**kwargs):\n",
    "    # Construct a kfolds object\n",
    "    random_state = np.random.RandomState(0)\n",
    "    # Construct training and testing set.\n",
    "    X, y = shuffle(X, y, random_state=random_state)\n",
    "    n_samples, n_features = X.shape\n",
    "    half = int(n_samples/2)\n",
    "    X_train, X_test = X[:half], X[half:]\n",
    "    y_train, y_test = y[:half], y[half:]\n",
    "    \n",
    "    # Choose SVC classifier.\n",
    "    classifier = clf_class(**kwargs)\n",
    "    probas_ = classifier.fit(X_train, y_train).predict_proba(X_test)\n",
    "    \n",
    "    fpr, tpr, thresholds = roc_curve(y_test, probas_[:, 1])\n",
    "    roc_auc = auc(fpr, tpr)\n",
    "    print \"Area under the ROC curve : %f\" % roc_auc\n",
    "    return fpr, tpr, roc_auc, thresholds\n",
    "\n",
    "# Generate ROC  for LR with l1 penalty and C=10^-1\n",
    "fpr,tpr,roc_auc, thresholds = generate_auc(X,y,LogisticRegression,C=0.035,penalty='l1')\n",
    "def generate_ROCplot(fpr,tpr,label,roc_auc):\n",
    "    plt.clf()\n",
    "    plt.plot(fpr, tpr, '.-',label='ROC curve (area = %0.2f)' % roc_auc)\n",
    "    plt.plot([0, 1], [0, 1], 'k--')\n",
    "    plt.xlim([0.0, 1.0])\n",
    "    plt.ylim([0.0, 1.0])\n",
    "    plt.xlabel('False Positive Rate')\n",
    "    plt.ylabel('True Positive Rate')\n",
    "    plt.title('Receiver operating characteristic')\n",
    "    plt.legend(loc=\"lower right\")\n",
    "    plt.show()\n",
    "    \n",
    "# Plots ROC\n",
    "generate_ROCplot(fpr,tpr,'LR',roc_auc)\n"
   ]
  },
  {
   "cell_type": "code",
   "execution_count": null,
   "metadata": {
    "collapsed": true
   },
   "outputs": [],
   "source": []
  },
  {
   "cell_type": "code",
   "execution_count": 11,
   "metadata": {
    "collapsed": true
   },
   "outputs": [],
   "source": [
    "cat_features=['Workclass','Education','Marital-Status','Occupation','Relationship','Race','Sex','Hours-Per-Week','Native-Country']"
   ]
  },
  {
   "cell_type": "code",
   "execution_count": 12,
   "metadata": {
    "collapsed": false
   },
   "outputs": [],
   "source": [
    "for c in cat_features:\n",
    "    df[c] = df[c].astype('category')"
   ]
  },
  {
   "cell_type": "code",
   "execution_count": 13,
   "metadata": {
    "collapsed": false
   },
   "outputs": [
    {
     "data": {
      "text/html": [
       "<div>\n",
       "<table border=\"1\" class=\"dataframe\">\n",
       "  <thead>\n",
       "    <tr style=\"text-align: right;\">\n",
       "      <th></th>\n",
       "      <th>Age</th>\n",
       "      <th>Workclass</th>\n",
       "      <th>Sector</th>\n",
       "      <th>Education</th>\n",
       "      <th>Education-num</th>\n",
       "      <th>Marital-Status</th>\n",
       "      <th>Occupation</th>\n",
       "      <th>Relationship</th>\n",
       "      <th>Race</th>\n",
       "      <th>Sex</th>\n",
       "      <th>Capital-Gain</th>\n",
       "      <th>Capital-Loss</th>\n",
       "      <th>Hours-Per-Week</th>\n",
       "      <th>Native-Country</th>\n",
       "      <th>y</th>\n",
       "    </tr>\n",
       "  </thead>\n",
       "  <tbody>\n",
       "    <tr>\n",
       "      <th>0</th>\n",
       "      <td>39</td>\n",
       "      <td>State-gov</td>\n",
       "      <td>77516</td>\n",
       "      <td>Bachelors</td>\n",
       "      <td>13</td>\n",
       "      <td>Never-married</td>\n",
       "      <td>Adm-clerical</td>\n",
       "      <td>Not-in-family</td>\n",
       "      <td>White</td>\n",
       "      <td>Male</td>\n",
       "      <td>2174</td>\n",
       "      <td>0</td>\n",
       "      <td>40</td>\n",
       "      <td>United-States</td>\n",
       "      <td>&lt;=50K</td>\n",
       "    </tr>\n",
       "    <tr>\n",
       "      <th>1</th>\n",
       "      <td>50</td>\n",
       "      <td>Self-emp-not-inc</td>\n",
       "      <td>83311</td>\n",
       "      <td>Bachelors</td>\n",
       "      <td>13</td>\n",
       "      <td>Married-civ-spouse</td>\n",
       "      <td>Exec-managerial</td>\n",
       "      <td>Husband</td>\n",
       "      <td>White</td>\n",
       "      <td>Male</td>\n",
       "      <td>0</td>\n",
       "      <td>0</td>\n",
       "      <td>13</td>\n",
       "      <td>United-States</td>\n",
       "      <td>&lt;=50K</td>\n",
       "    </tr>\n",
       "    <tr>\n",
       "      <th>2</th>\n",
       "      <td>38</td>\n",
       "      <td>Private</td>\n",
       "      <td>215646</td>\n",
       "      <td>HS-grad</td>\n",
       "      <td>9</td>\n",
       "      <td>Divorced</td>\n",
       "      <td>Handlers-cleaners</td>\n",
       "      <td>Not-in-family</td>\n",
       "      <td>White</td>\n",
       "      <td>Male</td>\n",
       "      <td>0</td>\n",
       "      <td>0</td>\n",
       "      <td>40</td>\n",
       "      <td>United-States</td>\n",
       "      <td>&lt;=50K</td>\n",
       "    </tr>\n",
       "    <tr>\n",
       "      <th>3</th>\n",
       "      <td>53</td>\n",
       "      <td>Private</td>\n",
       "      <td>234721</td>\n",
       "      <td>11th</td>\n",
       "      <td>7</td>\n",
       "      <td>Married-civ-spouse</td>\n",
       "      <td>Handlers-cleaners</td>\n",
       "      <td>Husband</td>\n",
       "      <td>Black</td>\n",
       "      <td>Male</td>\n",
       "      <td>0</td>\n",
       "      <td>0</td>\n",
       "      <td>40</td>\n",
       "      <td>United-States</td>\n",
       "      <td>&lt;=50K</td>\n",
       "    </tr>\n",
       "    <tr>\n",
       "      <th>4</th>\n",
       "      <td>28</td>\n",
       "      <td>Private</td>\n",
       "      <td>338409</td>\n",
       "      <td>Bachelors</td>\n",
       "      <td>13</td>\n",
       "      <td>Married-civ-spouse</td>\n",
       "      <td>Prof-specialty</td>\n",
       "      <td>Wife</td>\n",
       "      <td>Black</td>\n",
       "      <td>Female</td>\n",
       "      <td>0</td>\n",
       "      <td>0</td>\n",
       "      <td>40</td>\n",
       "      <td>Cuba</td>\n",
       "      <td>&lt;=50K</td>\n",
       "    </tr>\n",
       "  </tbody>\n",
       "</table>\n",
       "</div>"
      ],
      "text/plain": [
       "   Age          Workclass  Sector   Education  Education-num  \\\n",
       "0   39          State-gov   77516   Bachelors             13   \n",
       "1   50   Self-emp-not-inc   83311   Bachelors             13   \n",
       "2   38            Private  215646     HS-grad              9   \n",
       "3   53            Private  234721        11th              7   \n",
       "4   28            Private  338409   Bachelors             13   \n",
       "\n",
       "        Marital-Status          Occupation    Relationship    Race      Sex  \\\n",
       "0        Never-married        Adm-clerical   Not-in-family   White     Male   \n",
       "1   Married-civ-spouse     Exec-managerial         Husband   White     Male   \n",
       "2             Divorced   Handlers-cleaners   Not-in-family   White     Male   \n",
       "3   Married-civ-spouse   Handlers-cleaners         Husband   Black     Male   \n",
       "4   Married-civ-spouse      Prof-specialty            Wife   Black   Female   \n",
       "\n",
       "   Capital-Gain  Capital-Loss Hours-Per-Week  Native-Country       y  \n",
       "0          2174             0             40   United-States   <=50K  \n",
       "1             0             0             13   United-States   <=50K  \n",
       "2             0             0             40   United-States   <=50K  \n",
       "3             0             0             40   United-States   <=50K  \n",
       "4             0             0             40            Cuba   <=50K  "
      ]
     },
     "execution_count": 13,
     "metadata": {},
     "output_type": "execute_result"
    }
   ],
   "source": [
    "df.head()"
   ]
  },
  {
   "cell_type": "code",
   "execution_count": 19,
   "metadata": {
    "collapsed": false
   },
   "outputs": [
    {
     "data": {
      "text/plain": [
       "<matplotlib.axes._subplots.AxesSubplot at 0x116afc050>"
      ]
     },
     "execution_count": 19,
     "metadata": {},
     "output_type": "execute_result"
    },
    {
     "data": {
      "image/png": "[encoded data removed]",
      "text/plain": [
       "<matplotlib.figure.Figure at 0x116688e10>"
      ]
     },
     "metadata": {},
     "output_type": "display_data"
    }
   ],
   "source": [
    "import seaborn as sns\n",
    "from sklearn import preprocessing\n",
    "\n",
    "le = preprocessing.LabelEncoder()\n",
    "\n",
    "for col in df.columns:\n",
    "    if col != 'age' and col != 'hours_per_week':\n",
    "        df[col]=le.fit_transform(df[col])\n",
    "\n",
    "corr = df.corr()\n",
    "sns.heatmap(corr, \n",
    "            xticklabels=corr.columns.values,\n",
    "            yticklabels=corr.columns.values)"
   ]
  },
  {
   "cell_type": "code",
   "execution_count": 18,
   "metadata": {
    "collapsed": false
   },
   "outputs": [
    {
     "data": {
      "text/plain": [
       "<matplotlib.text.Text at 0x116697e10>"
      ]
     },
     "execution_count": 18,
     "metadata": {},
     "output_type": "execute_result"
    },
    {
     "data": {
      "image/png": "[encoded data removed]",
      "text/plain": [
       "<matplotlib.figure.Figure at 0x116688b10>"
      ]
     },
     "metadata": {},
     "output_type": "display_data"
    }
   ],
   "source": [
    "import numpy as np\n",
    "import matplotlib.pyplot as plt\n",
    "import seaborn\n",
    "import numpy as np\n",
    "import matplotlib.pyplot as plt\n",
    "from itertools import product\n",
    "from sklearn.decomposition import RandomizedPCA\n",
    "from sklearn.datasets import fetch_mldata\n",
    "from sklearn.utils import shuffle\n",
    "from sklearn import datasets\n",
    "%matplotlib inline\n",
    "from sklearn.decomposition import PCA\n",
    "pca = PCA()\n",
    "\n",
    "#digits = datasets.load_digits()\n",
    "#X_learn = df.drop(['y'],1)\n",
    "#y_pred = df['y']\n",
    "pca.fit_transform(df_final)\n",
    "\n",
    "plt.figure(1, figsize=(7, 4))\n",
    "plt.clf()\n",
    "plt.axes([.2, .2, .7, .7])\n",
    "plt.plot(pca.explained_variance_ratio_, linewidth=2)\n",
    "plt.axis('tight')\n",
    "plt.xlabel('Number of Components')\n",
    "plt.ylabel('Explained Variance')"
   ]
  },
  {
   "cell_type": "code",
   "execution_count": 20,
   "metadata": {
    "collapsed": true
   },
   "outputs": [],
   "source": [
    "X = df_final\n",
    "y = df['y']\n",
    "# Scale columns for regression.\n",
    "scaler = StandardScaler()\n",
    "#X = df.drop(['y'],1).as_matrix().astype(np.float)\n",
    "X = scaler.fit_transform(X)\n",
    "\n",
    "n_samples, n_features = X.shape\n",
    "\n",
    "half = int(n_samples/2)\n",
    "X_train, X_test = X[:half], X[half:]\n",
    "y_train, y_test = y[:half], y[half:]\n"
   ]
  },
  {
   "cell_type": "code",
   "execution_count": 21,
   "metadata": {
    "collapsed": false
   },
   "outputs": [
    {
     "data": {
      "text/plain": [
       "[<matplotlib.lines.Line2D at 0x116d8c7d0>]"
      ]
     },
     "execution_count": 21,
     "metadata": {},
     "output_type": "execute_result"
    },
    {
     "data": {
      "image/png": "[encoded data removed]",
      "text/plain": [
       "<matplotlib.figure.Figure at 0x11942cd50>"
      ]
     },
     "metadata": {},
     "output_type": "display_data"
    }
   ],
   "source": [
    "# Create linear regression object\n",
    "alphas = np.logspace(-0.5,0.5,30)\n",
    "\n",
    "scores = []\n",
    "\n",
    "for alpha in alphas:\n",
    "    regr = LogisticRegression(C=alpha,penalty='l1')\n",
    "\n",
    "    # Train the model using the training sets\n",
    "    regr.fit(X_train, y_train)\n",
    "    scores.append(regr.score(X_test,y_test))\n",
    "plt.plot(alphas,scores)\n",
    "  "
   ]
  },
  {
   "cell_type": "code",
   "execution_count": 193,
   "metadata": {
    "collapsed": false
   },
   "outputs": [
    {
     "data": {
      "text/plain": [
       "[<matplotlib.lines.Line2D at 0x12cb71090>]"
      ]
     },
     "execution_count": 193,
     "metadata": {},
     "output_type": "execute_result"
    },
    {
     "data": {
      "image/png": "[encoded data removed]",
      "text/plain": [
       "<matplotlib.figure.Figure at 0x12c94a610>"
      ]
     },
     "metadata": {},
     "output_type": "display_data"
    }
   ],
   "source": [
    "# Create linear regression object\n",
    "alphas = np.logspace(-1,0,10)\n",
    "\n",
    "scores = []\n",
    "\n",
    "for alpha in alphas:\n",
    "    regr = LogisticRegression(C=alpha,penalty='l2')\n",
    "\n",
    "    # Train the model using the training sets\n",
    "    regr.fit(X_train, y_train)\n",
    "    scores.append(regr.score(X_test,y_test))\n",
    "plt.plot(alphas,scores)\n",
    "  "
   ]
  },
  {
   "cell_type": "code",
   "execution_count": 194,
   "metadata": {
    "collapsed": true
   },
   "outputs": [],
   "source": [
    "alpha = alphas[np.argmax(scores)]"
   ]
  },
  {
   "cell_type": "code",
   "execution_count": 195,
   "metadata": {
    "collapsed": false
   },
   "outputs": [
    {
     "data": {
      "text/plain": [
       "LogisticRegression(C=0.16681005372000587, class_weight=None, dual=False,\n",
       "          fit_intercept=True, intercept_scaling=1, max_iter=100,\n",
       "          multi_class='ovr', n_jobs=1, penalty='l2', random_state=None,\n",
       "          solver='liblinear', tol=0.0001, verbose=0, warm_start=False)"
      ]
     },
     "execution_count": 195,
     "metadata": {},
     "output_type": "execute_result"
    }
   ],
   "source": [
    "regr = LogisticRegression(C=alpha,penalty='l2')\n",
    "\n",
    "# Train the model using the training sets\n",
    "regr.fit(X_train, y_train)"
   ]
  },
  {
   "cell_type": "code",
   "execution_count": 227,
   "metadata": {
    "collapsed": false
   },
   "outputs": [
    {
     "data": {
      "text/plain": [
       "(32561, 78)"
      ]
     },
     "execution_count": 227,
     "metadata": {},
     "output_type": "execute_result"
    }
   ],
   "source": [
    "df_final.shape"
   ]
  },
  {
   "cell_type": "code",
   "execution_count": 228,
   "metadata": {
    "collapsed": false
   },
   "outputs": [],
   "source": [
    "\n",
    "dfCoeffs = pd.DataFrame({'type':df_final.columns.values, 'coef':regr.coef_[0]})"
   ]
  },
  {
   "cell_type": "code",
   "execution_count": 229,
   "metadata": {
    "collapsed": false
   },
   "outputs": [
    {
     "data": {
      "text/html": [
       "<div>\n",
       "<table border=\"1\" class=\"dataframe\">\n",
       "  <thead>\n",
       "    <tr style=\"text-align: right;\">\n",
       "      <th></th>\n",
       "      <th>Age</th>\n",
       "      <th>Workclass</th>\n",
       "      <th>Sector</th>\n",
       "      <th>Education</th>\n",
       "      <th>Education-num</th>\n",
       "      <th>Marital-Status</th>\n",
       "      <th>Occupation</th>\n",
       "      <th>Relationship</th>\n",
       "      <th>Race</th>\n",
       "      <th>Sex</th>\n",
       "      <th>Capital-Gain</th>\n",
       "      <th>Capital-Loss</th>\n",
       "      <th>Hours-Per-Week</th>\n",
       "      <th>Native-Country</th>\n",
       "      <th>y</th>\n",
       "    </tr>\n",
       "  </thead>\n",
       "  <tbody>\n",
       "    <tr>\n",
       "      <th>0</th>\n",
       "      <td>39</td>\n",
       "      <td>State-gov</td>\n",
       "      <td>77516</td>\n",
       "      <td>Bachelors</td>\n",
       "      <td>13</td>\n",
       "      <td>Never-married</td>\n",
       "      <td>Adm-clerical</td>\n",
       "      <td>Not-in-family</td>\n",
       "      <td>White</td>\n",
       "      <td>Male</td>\n",
       "      <td>2174</td>\n",
       "      <td>0</td>\n",
       "      <td>40</td>\n",
       "      <td>United-States</td>\n",
       "      <td>&lt;=50K</td>\n",
       "    </tr>\n",
       "    <tr>\n",
       "      <th>1</th>\n",
       "      <td>50</td>\n",
       "      <td>Self-emp-not-inc</td>\n",
       "      <td>83311</td>\n",
       "      <td>Bachelors</td>\n",
       "      <td>13</td>\n",
       "      <td>Married-civ-spouse</td>\n",
       "      <td>Exec-managerial</td>\n",
       "      <td>Husband</td>\n",
       "      <td>White</td>\n",
       "      <td>Male</td>\n",
       "      <td>0</td>\n",
       "      <td>0</td>\n",
       "      <td>13</td>\n",
       "      <td>United-States</td>\n",
       "      <td>&lt;=50K</td>\n",
       "    </tr>\n",
       "    <tr>\n",
       "      <th>2</th>\n",
       "      <td>38</td>\n",
       "      <td>Private</td>\n",
       "      <td>215646</td>\n",
       "      <td>HS-grad</td>\n",
       "      <td>9</td>\n",
       "      <td>Divorced</td>\n",
       "      <td>Handlers-cleaners</td>\n",
       "      <td>Not-in-family</td>\n",
       "      <td>White</td>\n",
       "      <td>Male</td>\n",
       "      <td>0</td>\n",
       "      <td>0</td>\n",
       "      <td>40</td>\n",
       "      <td>United-States</td>\n",
       "      <td>&lt;=50K</td>\n",
       "    </tr>\n",
       "    <tr>\n",
       "      <th>3</th>\n",
       "      <td>53</td>\n",
       "      <td>Private</td>\n",
       "      <td>234721</td>\n",
       "      <td>11th</td>\n",
       "      <td>7</td>\n",
       "      <td>Married-civ-spouse</td>\n",
       "      <td>Handlers-cleaners</td>\n",
       "      <td>Husband</td>\n",
       "      <td>Black</td>\n",
       "      <td>Male</td>\n",
       "      <td>0</td>\n",
       "      <td>0</td>\n",
       "      <td>40</td>\n",
       "      <td>United-States</td>\n",
       "      <td>&lt;=50K</td>\n",
       "    </tr>\n",
       "    <tr>\n",
       "      <th>4</th>\n",
       "      <td>28</td>\n",
       "      <td>Private</td>\n",
       "      <td>338409</td>\n",
       "      <td>Bachelors</td>\n",
       "      <td>13</td>\n",
       "      <td>Married-civ-spouse</td>\n",
       "      <td>Prof-specialty</td>\n",
       "      <td>Wife</td>\n",
       "      <td>Black</td>\n",
       "      <td>Female</td>\n",
       "      <td>0</td>\n",
       "      <td>0</td>\n",
       "      <td>40</td>\n",
       "      <td>Cuba</td>\n",
       "      <td>&lt;=50K</td>\n",
       "    </tr>\n",
       "  </tbody>\n",
       "</table>\n",
       "</div>"
      ],
      "text/plain": [
       "   Age          Workclass  Sector   Education  Education-num  \\\n",
       "0   39          State-gov   77516   Bachelors             13   \n",
       "1   50   Self-emp-not-inc   83311   Bachelors             13   \n",
       "2   38            Private  215646     HS-grad              9   \n",
       "3   53            Private  234721        11th              7   \n",
       "4   28            Private  338409   Bachelors             13   \n",
       "\n",
       "        Marital-Status          Occupation    Relationship    Race      Sex  \\\n",
       "0        Never-married        Adm-clerical   Not-in-family   White     Male   \n",
       "1   Married-civ-spouse     Exec-managerial         Husband   White     Male   \n",
       "2             Divorced   Handlers-cleaners   Not-in-family   White     Male   \n",
       "3   Married-civ-spouse   Handlers-cleaners         Husband   Black     Male   \n",
       "4   Married-civ-spouse      Prof-specialty            Wife   Black   Female   \n",
       "\n",
       "   Capital-Gain  Capital-Loss  Hours-Per-Week  Native-Country       y  \n",
       "0          2174             0              40   United-States   <=50K  \n",
       "1             0             0              13   United-States   <=50K  \n",
       "2             0             0              40   United-States   <=50K  \n",
       "3             0             0              40   United-States   <=50K  \n",
       "4             0             0              40            Cuba   <=50K  "
      ]
     },
     "execution_count": 229,
     "metadata": {},
     "output_type": "execute_result"
    }
   ],
   "source": [
    "df.head()"
   ]
  },
  {
   "cell_type": "code",
   "execution_count": 198,
   "metadata": {
    "collapsed": false
   },
   "outputs": [],
   "source": [
    "df_reduced = dfCoeffs[(dfCoeffs['coef']>0.1) | (dfCoeffs['coef']<-0.1)]"
   ]
  },
  {
   "cell_type": "code",
   "execution_count": 238,
   "metadata": {
    "collapsed": false
   },
   "outputs": [
    {
     "ename": "ValueError",
     "evalue": "In safezip, len(args[0])=77 but len(args[1])=78",
     "output_type": "error",
     "traceback": [
      "\u001b[0;31m---------------------------------------------------------------------------\u001b[0m",
      "\u001b[0;31mValueError\u001b[0m                                Traceback (most recent call last)",
      "\u001b[0;32m<ipython-input-238-e6eaa961cc84>\u001b[0m in \u001b[0;36m<module>\u001b[0;34m()\u001b[0m\n\u001b[1;32m      2\u001b[0m \u001b[0mdfCoeffs2\u001b[0m \u001b[0;34m=\u001b[0m \u001b[0mdfCoeffs\u001b[0m\u001b[0;34m.\u001b[0m\u001b[0mgroupby\u001b[0m\u001b[0;34m(\u001b[0m\u001b[0;34m'type'\u001b[0m\u001b[0;34m)\u001b[0m\u001b[0;34m[\u001b[0m\u001b[0;34m'coef'\u001b[0m\u001b[0;34m]\u001b[0m\u001b[0;34m.\u001b[0m\u001b[0mmean\u001b[0m\u001b[0;34m(\u001b[0m\u001b[0;34m)\u001b[0m\u001b[0;34m\u001b[0m\u001b[0m\n\u001b[1;32m      3\u001b[0m \u001b[0mdfCoeffs2\u001b[0m\u001b[0;34m.\u001b[0m\u001b[0msort\u001b[0m\u001b[0;34m(\u001b[0m\u001b[0;34m)\u001b[0m\u001b[0;34m\u001b[0m\u001b[0m\n\u001b[0;32m----> 4\u001b[0;31m \u001b[0mdfCoeffs2\u001b[0m\u001b[0;34m[\u001b[0m\u001b[0;34m:\u001b[0m\u001b[0;34m:\u001b[0m\u001b[0;34m-\u001b[0m\u001b[0;36m1\u001b[0m\u001b[0;34m]\u001b[0m\u001b[0;34m.\u001b[0m\u001b[0mplot\u001b[0m\u001b[0;34m(\u001b[0m\u001b[0mkind\u001b[0m\u001b[0;34m=\u001b[0m\u001b[0;34m'bar'\u001b[0m\u001b[0;34m,\u001b[0m\u001b[0myerr\u001b[0m\u001b[0;34m=\u001b[0m\u001b[0myerr\u001b[0m\u001b[0;34m)\u001b[0m\u001b[0;34m\u001b[0m\u001b[0m\n\u001b[0m",
      "\u001b[0;32m//anaconda/lib/python2.7/site-packages/pandas/tools/plotting.pyc\u001b[0m in \u001b[0;36mplot_series\u001b[0;34m(data, kind, ax, figsize, use_index, title, grid, legend, style, logx, logy, loglog, xticks, yticks, xlim, ylim, rot, fontsize, colormap, table, yerr, xerr, label, secondary_y, **kwds)\u001b[0m\n\u001b[1;32m   2517\u001b[0m                  \u001b[0myerr\u001b[0m\u001b[0;34m=\u001b[0m\u001b[0myerr\u001b[0m\u001b[0;34m,\u001b[0m \u001b[0mxerr\u001b[0m\u001b[0;34m=\u001b[0m\u001b[0mxerr\u001b[0m\u001b[0;34m,\u001b[0m\u001b[0;34m\u001b[0m\u001b[0m\n\u001b[1;32m   2518\u001b[0m                  \u001b[0mlabel\u001b[0m\u001b[0;34m=\u001b[0m\u001b[0mlabel\u001b[0m\u001b[0;34m,\u001b[0m \u001b[0msecondary_y\u001b[0m\u001b[0;34m=\u001b[0m\u001b[0msecondary_y\u001b[0m\u001b[0;34m,\u001b[0m\u001b[0;34m\u001b[0m\u001b[0m\n\u001b[0;32m-> 2519\u001b[0;31m                  **kwds)\n\u001b[0m\u001b[1;32m   2520\u001b[0m \u001b[0;34m\u001b[0m\u001b[0m\n\u001b[1;32m   2521\u001b[0m \u001b[0;34m\u001b[0m\u001b[0m\n",
      "\u001b[0;32m//anaconda/lib/python2.7/site-packages/pandas/tools/plotting.pyc\u001b[0m in \u001b[0;36m_plot\u001b[0;34m(data, x, y, subplots, ax, kind, **kwds)\u001b[0m\n\u001b[1;32m   2322\u001b[0m         \u001b[0mplot_obj\u001b[0m \u001b[0;34m=\u001b[0m \u001b[0mklass\u001b[0m\u001b[0;34m(\u001b[0m\u001b[0mdata\u001b[0m\u001b[0;34m,\u001b[0m \u001b[0msubplots\u001b[0m\u001b[0;34m=\u001b[0m\u001b[0msubplots\u001b[0m\u001b[0;34m,\u001b[0m \u001b[0max\u001b[0m\u001b[0;34m=\u001b[0m\u001b[0max\u001b[0m\u001b[0;34m,\u001b[0m \u001b[0mkind\u001b[0m\u001b[0;34m=\u001b[0m\u001b[0mkind\u001b[0m\u001b[0;34m,\u001b[0m \u001b[0;34m**\u001b[0m\u001b[0mkwds\u001b[0m\u001b[0;34m)\u001b[0m\u001b[0;34m\u001b[0m\u001b[0m\n\u001b[1;32m   2323\u001b[0m \u001b[0;34m\u001b[0m\u001b[0m\n\u001b[0;32m-> 2324\u001b[0;31m     \u001b[0mplot_obj\u001b[0m\u001b[0;34m.\u001b[0m\u001b[0mgenerate\u001b[0m\u001b[0;34m(\u001b[0m\u001b[0;34m)\u001b[0m\u001b[0;34m\u001b[0m\u001b[0m\n\u001b[0m\u001b[1;32m   2325\u001b[0m     \u001b[0mplot_obj\u001b[0m\u001b[0;34m.\u001b[0m\u001b[0mdraw\u001b[0m\u001b[0;34m(\u001b[0m\u001b[0;34m)\u001b[0m\u001b[0;34m\u001b[0m\u001b[0m\n\u001b[1;32m   2326\u001b[0m     \u001b[0;32mreturn\u001b[0m \u001b[0mplot_obj\u001b[0m\u001b[0;34m.\u001b[0m\u001b[0mresult\u001b[0m\u001b[0;34m\u001b[0m\u001b[0m\n",
      "\u001b[0;32m//anaconda/lib/python2.7/site-packages/pandas/tools/plotting.pyc\u001b[0m in \u001b[0;36mgenerate\u001b[0;34m(self)\u001b[0m\n\u001b[1;32m    912\u001b[0m         \u001b[0mself\u001b[0m\u001b[0;34m.\u001b[0m\u001b[0m_compute_plot_data\u001b[0m\u001b[0;34m(\u001b[0m\u001b[0;34m)\u001b[0m\u001b[0;34m\u001b[0m\u001b[0m\n\u001b[1;32m    913\u001b[0m         \u001b[0mself\u001b[0m\u001b[0;34m.\u001b[0m\u001b[0m_setup_subplots\u001b[0m\u001b[0;34m(\u001b[0m\u001b[0;34m)\u001b[0m\u001b[0;34m\u001b[0m\u001b[0m\n\u001b[0;32m--> 914\u001b[0;31m         \u001b[0mself\u001b[0m\u001b[0;34m.\u001b[0m\u001b[0m_make_plot\u001b[0m\u001b[0;34m(\u001b[0m\u001b[0;34m)\u001b[0m\u001b[0;34m\u001b[0m\u001b[0m\n\u001b[0m\u001b[1;32m    915\u001b[0m         \u001b[0mself\u001b[0m\u001b[0;34m.\u001b[0m\u001b[0m_add_table\u001b[0m\u001b[0;34m(\u001b[0m\u001b[0;34m)\u001b[0m\u001b[0;34m\u001b[0m\u001b[0m\n\u001b[1;32m    916\u001b[0m         \u001b[0mself\u001b[0m\u001b[0;34m.\u001b[0m\u001b[0m_make_legend\u001b[0m\u001b[0;34m(\u001b[0m\u001b[0;34m)\u001b[0m\u001b[0;34m\u001b[0m\u001b[0m\n",
      "\u001b[0;32m//anaconda/lib/python2.7/site-packages/pandas/tools/plotting.pyc\u001b[0m in \u001b[0;36m_make_plot\u001b[0;34m(self)\u001b[0m\n\u001b[1;32m   1883\u001b[0m                 \u001b[0mw\u001b[0m \u001b[0;34m=\u001b[0m \u001b[0mself\u001b[0m\u001b[0;34m.\u001b[0m\u001b[0mbar_width\u001b[0m \u001b[0;34m/\u001b[0m \u001b[0mK\u001b[0m\u001b[0;34m\u001b[0m\u001b[0m\n\u001b[1;32m   1884\u001b[0m                 rect = bar_f(ax, self.ax_pos + (i + 0.5) * w, y, w,\n\u001b[0;32m-> 1885\u001b[0;31m                              start=start, label=label, **kwds)\n\u001b[0m\u001b[1;32m   1886\u001b[0m             \u001b[0mself\u001b[0m\u001b[0;34m.\u001b[0m\u001b[0m_add_legend_handle\u001b[0m\u001b[0;34m(\u001b[0m\u001b[0mrect\u001b[0m\u001b[0;34m,\u001b[0m \u001b[0mlabel\u001b[0m\u001b[0;34m,\u001b[0m \u001b[0mindex\u001b[0m\u001b[0;34m=\u001b[0m\u001b[0mi\u001b[0m\u001b[0;34m)\u001b[0m\u001b[0;34m\u001b[0m\u001b[0m\n\u001b[1;32m   1887\u001b[0m \u001b[0;34m\u001b[0m\u001b[0m\n",
      "\u001b[0;32m//anaconda/lib/python2.7/site-packages/pandas/tools/plotting.pyc\u001b[0m in \u001b[0;36mf\u001b[0;34m(ax, x, y, w, start, **kwds)\u001b[0m\n\u001b[1;32m   1828\u001b[0m             \u001b[0;32mdef\u001b[0m \u001b[0mf\u001b[0m\u001b[0;34m(\u001b[0m\u001b[0max\u001b[0m\u001b[0;34m,\u001b[0m \u001b[0mx\u001b[0m\u001b[0;34m,\u001b[0m \u001b[0my\u001b[0m\u001b[0;34m,\u001b[0m \u001b[0mw\u001b[0m\u001b[0;34m,\u001b[0m \u001b[0mstart\u001b[0m\u001b[0;34m=\u001b[0m\u001b[0mNone\u001b[0m\u001b[0;34m,\u001b[0m \u001b[0;34m**\u001b[0m\u001b[0mkwds\u001b[0m\u001b[0;34m)\u001b[0m\u001b[0;34m:\u001b[0m\u001b[0;34m\u001b[0m\u001b[0m\n\u001b[1;32m   1829\u001b[0m                 \u001b[0mstart\u001b[0m \u001b[0;34m=\u001b[0m \u001b[0mstart\u001b[0m \u001b[0;34m+\u001b[0m \u001b[0mself\u001b[0m\u001b[0;34m.\u001b[0m\u001b[0mbottom\u001b[0m\u001b[0;34m\u001b[0m\u001b[0m\n\u001b[0;32m-> 1830\u001b[0;31m                 \u001b[0;32mreturn\u001b[0m \u001b[0max\u001b[0m\u001b[0;34m.\u001b[0m\u001b[0mbar\u001b[0m\u001b[0;34m(\u001b[0m\u001b[0mx\u001b[0m\u001b[0;34m,\u001b[0m \u001b[0my\u001b[0m\u001b[0;34m,\u001b[0m \u001b[0mw\u001b[0m\u001b[0;34m,\u001b[0m \u001b[0mbottom\u001b[0m\u001b[0;34m=\u001b[0m\u001b[0mstart\u001b[0m\u001b[0;34m,\u001b[0m \u001b[0mlog\u001b[0m\u001b[0;34m=\u001b[0m\u001b[0mself\u001b[0m\u001b[0;34m.\u001b[0m\u001b[0mlog\u001b[0m\u001b[0;34m,\u001b[0m \u001b[0;34m**\u001b[0m\u001b[0mkwds\u001b[0m\u001b[0;34m)\u001b[0m\u001b[0;34m\u001b[0m\u001b[0m\n\u001b[0m\u001b[1;32m   1831\u001b[0m         \u001b[0;32melif\u001b[0m \u001b[0mself\u001b[0m\u001b[0;34m.\u001b[0m\u001b[0mkind\u001b[0m \u001b[0;34m==\u001b[0m \u001b[0;34m'barh'\u001b[0m\u001b[0;34m:\u001b[0m\u001b[0;34m\u001b[0m\u001b[0m\n\u001b[1;32m   1832\u001b[0m \u001b[0;34m\u001b[0m\u001b[0m\n",
      "\u001b[0;32m//anaconda/lib/python2.7/site-packages/matplotlib/axes/_axes.pyc\u001b[0m in \u001b[0;36mbar\u001b[0;34m(self, left, height, width, bottom, **kwargs)\u001b[0m\n\u001b[1;32m   2065\u001b[0m             errorbar = self.errorbar(x, y,\n\u001b[1;32m   2066\u001b[0m                                      \u001b[0myerr\u001b[0m\u001b[0;34m=\u001b[0m\u001b[0myerr\u001b[0m\u001b[0;34m,\u001b[0m \u001b[0mxerr\u001b[0m\u001b[0;34m=\u001b[0m\u001b[0mxerr\u001b[0m\u001b[0;34m,\u001b[0m\u001b[0;34m\u001b[0m\u001b[0m\n\u001b[0;32m-> 2067\u001b[0;31m                                      fmt='none', **error_kw)\n\u001b[0m\u001b[1;32m   2068\u001b[0m         \u001b[0;32melse\u001b[0m\u001b[0;34m:\u001b[0m\u001b[0;34m\u001b[0m\u001b[0m\n\u001b[1;32m   2069\u001b[0m             \u001b[0merrorbar\u001b[0m \u001b[0;34m=\u001b[0m \u001b[0mNone\u001b[0m\u001b[0;34m\u001b[0m\u001b[0m\n",
      "\u001b[0;32m//anaconda/lib/python2.7/site-packages/matplotlib/axes/_axes.pyc\u001b[0m in \u001b[0;36merrorbar\u001b[0;34m(self, x, y, yerr, xerr, fmt, ecolor, elinewidth, capsize, barsabove, lolims, uplims, xlolims, xuplims, errorevery, capthick, **kwargs)\u001b[0m\n\u001b[1;32m   2811\u001b[0m                 \u001b[0;31m# using list comps rather than arrays to preserve units\u001b[0m\u001b[0;34m\u001b[0m\u001b[0;34m\u001b[0m\u001b[0m\n\u001b[1;32m   2812\u001b[0m                 lower = [thisy - thiserr for (thisy, thiserr)\n\u001b[0;32m-> 2813\u001b[0;31m                          in cbook.safezip(y, yerr)]\n\u001b[0m\u001b[1;32m   2814\u001b[0m                 upper = [thisy + thiserr for (thisy, thiserr)\n\u001b[1;32m   2815\u001b[0m                          in cbook.safezip(y, yerr)]\n",
      "\u001b[0;32m//anaconda/lib/python2.7/site-packages/matplotlib/cbook.pyc\u001b[0m in \u001b[0;36msafezip\u001b[0;34m(*args)\u001b[0m\n\u001b[1;32m   1477\u001b[0m     \u001b[0;32mfor\u001b[0m \u001b[0mi\u001b[0m\u001b[0;34m,\u001b[0m \u001b[0marg\u001b[0m \u001b[0;32min\u001b[0m \u001b[0menumerate\u001b[0m\u001b[0;34m(\u001b[0m\u001b[0margs\u001b[0m\u001b[0;34m[\u001b[0m\u001b[0;36m1\u001b[0m\u001b[0;34m:\u001b[0m\u001b[0;34m]\u001b[0m\u001b[0;34m)\u001b[0m\u001b[0;34m:\u001b[0m\u001b[0;34m\u001b[0m\u001b[0m\n\u001b[1;32m   1478\u001b[0m         \u001b[0;32mif\u001b[0m \u001b[0mlen\u001b[0m\u001b[0;34m(\u001b[0m\u001b[0marg\u001b[0m\u001b[0;34m)\u001b[0m \u001b[0;34m!=\u001b[0m \u001b[0mNx\u001b[0m\u001b[0;34m:\u001b[0m\u001b[0;34m\u001b[0m\u001b[0m\n\u001b[0;32m-> 1479\u001b[0;31m             \u001b[0;32mraise\u001b[0m \u001b[0mValueError\u001b[0m\u001b[0;34m(\u001b[0m\u001b[0m_safezip_msg\u001b[0m \u001b[0;34m%\u001b[0m \u001b[0;34m(\u001b[0m\u001b[0mNx\u001b[0m\u001b[0;34m,\u001b[0m \u001b[0mi\u001b[0m \u001b[0;34m+\u001b[0m \u001b[0;36m1\u001b[0m\u001b[0;34m,\u001b[0m \u001b[0mlen\u001b[0m\u001b[0;34m(\u001b[0m\u001b[0marg\u001b[0m\u001b[0;34m)\u001b[0m\u001b[0;34m)\u001b[0m\u001b[0;34m)\u001b[0m\u001b[0;34m\u001b[0m\u001b[0m\n\u001b[0m\u001b[1;32m   1480\u001b[0m     \u001b[0;32mreturn\u001b[0m \u001b[0mlist\u001b[0m\u001b[0;34m(\u001b[0m\u001b[0mzip\u001b[0m\u001b[0;34m(\u001b[0m\u001b[0;34m*\u001b[0m\u001b[0margs\u001b[0m\u001b[0;34m)\u001b[0m\u001b[0;34m)\u001b[0m\u001b[0;34m\u001b[0m\u001b[0m\n\u001b[1;32m   1481\u001b[0m \u001b[0;34m\u001b[0m\u001b[0m\n",
      "\u001b[0;31mValueError\u001b[0m: In safezip, len(args[0])=77 but len(args[1])=78"
     ]
    },
    {
     "data": {
      "image/png": "[encoded data removed]",
      "text/plain": [
       "<matplotlib.figure.Figure at 0x12e7ccc50>"
      ]
     },
     "metadata": {},
     "output_type": "display_data"
    }
   ],
   "source": [
    "plt.figure(figsize=(15,15))\n",
    "dfCoeffs2 = dfCoeffs.groupby('type')['coef'].mean()\n",
    "dfCoeffs2.sort()\n",
    "dfCoeffs2[::-1].plot(kind='bar',yerr=yerr)"
   ]
  },
  {
   "cell_type": "code",
   "execution_count": 231,
   "metadata": {
    "collapsed": false
   },
   "outputs": [
    {
     "data": {
      "text/plain": [
       "(32561, 78)"
      ]
     },
     "execution_count": 231,
     "metadata": {},
     "output_type": "execute_result"
    }
   ],
   "source": [
    "df_final.shape"
   ]
  },
  {
   "cell_type": "code",
   "execution_count": 237,
   "metadata": {
    "collapsed": false
   },
   "outputs": [],
   "source": [
    "dfCoeffs2 = dfCoeffs2.drop_duplicates()"
   ]
  },
  {
   "cell_type": "code",
   "execution_count": 236,
   "metadata": {
    "collapsed": false
   },
   "outputs": [
    {
     "data": {
      "text/plain": [
       "0                             Age\n",
       "1                    Capital-Gain\n",
       "2                    Capital-Loss\n",
       "3                               ?\n",
       "4                     Federal-gov\n",
       "5                       Local-gov\n",
       "6                    Never-worked\n",
       "7                         Private\n",
       "8                    Self-emp-inc\n",
       "9                Self-emp-not-inc\n",
       "10                      State-gov\n",
       "11                    Without-pay\n",
       "12                           10th\n",
       "13                           11th\n",
       "14                           12th\n",
       "15                        1st-4th\n",
       "16                        5th-6th\n",
       "17                        7th-8th\n",
       "18                            9th\n",
       "19                     Assoc-acdm\n",
       "20                      Assoc-voc\n",
       "21                      Bachelors\n",
       "22                      Doctorate\n",
       "23                        HS-grad\n",
       "24                        Masters\n",
       "25                      Preschool\n",
       "26                    Prof-school\n",
       "27                   Some-college\n",
       "28                        Husband\n",
       "29                  Not-in-family\n",
       "                 ...             \n",
       "48                         Greece\n",
       "49                      Guatemala\n",
       "50                          Haiti\n",
       "51             Holand-Netherlands\n",
       "52                       Honduras\n",
       "53                           Hong\n",
       "54                        Hungary\n",
       "55                          India\n",
       "56                           Iran\n",
       "57                        Ireland\n",
       "58                          Italy\n",
       "59                        Jamaica\n",
       "60                          Japan\n",
       "61                           Laos\n",
       "62                         Mexico\n",
       "63                      Nicaragua\n",
       "64     Outlying-US(Guam-USVI-etc)\n",
       "65                           Peru\n",
       "66                    Philippines\n",
       "67                         Poland\n",
       "68                       Portugal\n",
       "69                    Puerto-Rico\n",
       "70                       Scotland\n",
       "71                          South\n",
       "72                         Taiwan\n",
       "73                       Thailand\n",
       "74                Trinadad&Tobago\n",
       "75                  United-States\n",
       "76                        Vietnam\n",
       "77                     Yugoslavia\n",
       "Name: type, dtype: object"
      ]
     },
     "execution_count": 236,
     "metadata": {},
     "output_type": "execute_result"
    }
   ],
   "source": [
    "dfCoeffs['type'].drop_duplicates()"
   ]
  },
  {
   "cell_type": "code",
   "execution_count": 235,
   "metadata": {
    "collapsed": false
   },
   "outputs": [
    {
     "data": {
      "text/plain": [
       "Index([u'Age', u'Capital-Gain', u'Capital-Loss', u' ?', u' Federal-gov',\n",
       "       u' Local-gov', u' Never-worked', u' Private', u' Self-emp-inc',\n",
       "       u' Self-emp-not-inc', u' State-gov', u' Without-pay', u' 10th',\n",
       "       u' 11th', u' 12th', u' 1st-4th', u' 5th-6th', u' 7th-8th', u' 9th',\n",
       "       u' Assoc-acdm', u' Assoc-voc', u' Bachelors', u' Doctorate',\n",
       "       u' HS-grad', u' Masters', u' Preschool', u' Prof-school',\n",
       "       u' Some-college', u' Husband', u' Not-in-family', u' Other-relative',\n",
       "       u' Own-child', u' Unmarried', u' Wife', u' Female', u' Male', u' ?',\n",
       "       u' Cambodia', u' Canada', u' China', u' Columbia', u' Cuba',\n",
       "       u' Dominican-Republic', u' Ecuador', u' El-Salvador', u' England',\n",
       "       u' France', u' Germany', u' Greece', u' Guatemala', u' Haiti',\n",
       "       u' Holand-Netherlands', u' Honduras', u' Hong', u' Hungary', u' India',\n",
       "       u' Iran', u' Ireland', u' Italy', u' Jamaica', u' Japan', u' Laos',\n",
       "       u' Mexico', u' Nicaragua', u' Outlying-US(Guam-USVI-etc)', u' Peru',\n",
       "       u' Philippines', u' Poland', u' Portugal', u' Puerto-Rico',\n",
       "       u' Scotland', u' South', u' Taiwan', u' Thailand', u' Trinadad&Tobago',\n",
       "       u' United-States', u' Vietnam', u' Yugoslavia'],\n",
       "      dtype='object')"
      ]
     },
     "execution_count": 235,
     "metadata": {},
     "output_type": "execute_result"
    }
   ],
   "source": [
    "df_final.columns"
   ]
  },
  {
   "cell_type": "code",
   "execution_count": 233,
   "metadata": {
    "collapsed": false
   },
   "outputs": [
    {
     "data": {
      "text/plain": [
       "type\n",
       " Own-child                    -0.681842\n",
       " Preschool                    -0.396081\n",
       " 11th                         -0.266513\n",
       " Not-in-family                -0.229559\n",
       " 7th-8th                      -0.213743\n",
       " 9th                          -0.209039\n",
       " 10th                         -0.205415\n",
       " HS-grad                      -0.202350\n",
       " Female                       -0.192575\n",
       " Unmarried                    -0.186587\n",
       " 5th-6th                      -0.152124\n",
       " Other-relative               -0.146508\n",
       " 1st-4th                      -0.138325\n",
       " 12th                         -0.100602\n",
       " ?                            -0.099364\n",
       " Laos                         -0.096594\n",
       " Self-emp-not-inc             -0.077161\n",
       " Outlying-US(Guam-USVI-etc)   -0.075855\n",
       " Mexico                       -0.072337\n",
       " Scotland                     -0.065120\n",
       " Vietnam                      -0.061801\n",
       " Ecuador                      -0.059492\n",
       " Guatemala                    -0.059232\n",
       " Haiti                        -0.056501\n",
       " Columbia                     -0.056088\n",
       " El-Salvador                  -0.051769\n",
       " Dominican-Republic           -0.046422\n",
       " Nicaragua                    -0.042362\n",
       " Greece                       -0.040635\n",
       " Without-pay                  -0.037112\n",
       "                                 ...   \n",
       " Hungary                       0.009498\n",
       " Holand-Netherlands            0.010391\n",
       " Hong                          0.014267\n",
       " England                       0.017819\n",
       " Japan                         0.020396\n",
       " Cambodia                      0.022056\n",
       " Portugal                      0.022148\n",
       " Jamaica                       0.022453\n",
       " Local-gov                     0.026188\n",
       " Ireland                       0.027026\n",
       " Yugoslavia                    0.027422\n",
       " Assoc-voc                     0.032844\n",
       " Assoc-acdm                    0.045177\n",
       " Canada                        0.050742\n",
       " Germany                       0.051231\n",
       " Italy                         0.055100\n",
       " Private                       0.056591\n",
       " United-States                 0.091739\n",
       " Federal-gov                   0.094131\n",
       " Self-emp-inc                  0.117083\n",
       " Male                          0.192575\n",
       " Prof-school                   0.250870\n",
       " Doctorate                     0.269003\n",
       "Capital-Loss                   0.271415\n",
       "Age                            0.310312\n",
       " Masters                       0.333535\n",
       " Bachelors                     0.365170\n",
       " Wife                          0.506235\n",
       " Husband                       0.654486\n",
       "Capital-Gain                   2.117468\n",
       "Name: coef, dtype: float64"
      ]
     },
     "execution_count": 233,
     "metadata": {},
     "output_type": "execute_result"
    }
   ],
   "source": [
    "dfCoeffs2"
   ]
  },
  {
   "cell_type": "code",
   "execution_count": 239,
   "metadata": {
    "collapsed": false
   },
   "outputs": [
    {
     "data": {
      "text/html": [
       "<table class=\"simpletable\">\n",
       "<caption>OLS Regression Results</caption>\n",
       "<tr>\n",
       "  <th>Dep. Variable:</th>            <td>y</td>        <th>  R-squared:         </th> <td>   0.263</td> \n",
       "</tr>\n",
       "<tr>\n",
       "  <th>Model:</th>                   <td>OLS</td>       <th>  Adj. R-squared:    </th> <td>   0.262</td> \n",
       "</tr>\n",
       "<tr>\n",
       "  <th>Method:</th>             <td>Least Squares</td>  <th>  F-statistic:       </th> <td>   159.1</td> \n",
       "</tr>\n",
       "<tr>\n",
       "  <th>Date:</th>             <td>Fri, 03 Feb 2017</td> <th>  Prob (F-statistic):</th>  <td>  0.00</td>  \n",
       "</tr>\n",
       "<tr>\n",
       "  <th>Time:</th>                 <td>14:17:47</td>     <th>  Log-Likelihood:    </th> <td> -18046.</td> \n",
       "</tr>\n",
       "<tr>\n",
       "  <th>No. Observations:</th>      <td> 32561</td>      <th>  AIC:               </th> <td>3.624e+04</td>\n",
       "</tr>\n",
       "<tr>\n",
       "  <th>Df Residuals:</th>          <td> 32488</td>      <th>  BIC:               </th> <td>3.685e+04</td>\n",
       "</tr>\n",
       "<tr>\n",
       "  <th>Df Model:</th>              <td>    73</td>      <th>                     </th>     <td> </td>    \n",
       "</tr>\n",
       "<tr>\n",
       "  <th>Covariance Type:</th>      <td>nonrobust</td>    <th>                     </th>     <td> </td>    \n",
       "</tr>\n",
       "</table>\n",
       "<table class=\"simpletable\">\n",
       "<tr>\n",
       "   <td></td>      <th>coef</th>     <th>std err</th>      <th>t</th>      <th>P>|t|</th> <th>[95.0% Conf. Int.]</th> \n",
       "</tr>\n",
       "<tr>\n",
       "  <th>x1</th>  <td>    0.0354</td> <td>    0.003</td> <td>   12.789</td> <td> 0.000</td> <td>    0.030     0.041</td>\n",
       "</tr>\n",
       "<tr>\n",
       "  <th>x2</th>  <td>    0.0608</td> <td>    0.002</td> <td>   25.321</td> <td> 0.000</td> <td>    0.056     0.066</td>\n",
       "</tr>\n",
       "<tr>\n",
       "  <th>x3</th>  <td>    0.0396</td> <td>    0.002</td> <td>   16.762</td> <td> 0.000</td> <td>    0.035     0.044</td>\n",
       "</tr>\n",
       "<tr>\n",
       "  <th>x4</th>  <td>   -0.0139</td> <td>    0.002</td> <td>   -6.473</td> <td> 0.000</td> <td>   -0.018    -0.010</td>\n",
       "</tr>\n",
       "<tr>\n",
       "  <th>x5</th>  <td>    0.0154</td> <td>    0.002</td> <td>    6.939</td> <td> 0.000</td> <td>    0.011     0.020</td>\n",
       "</tr>\n",
       "<tr>\n",
       "  <th>x6</th>  <td>   -0.0024</td> <td>    0.002</td> <td>   -1.137</td> <td> 0.256</td> <td>   -0.007     0.002</td>\n",
       "</tr>\n",
       "<tr>\n",
       "  <th>x7</th>  <td> 4.792e-05</td> <td>    0.002</td> <td>    0.020</td> <td> 0.984</td> <td>   -0.005     0.005</td>\n",
       "</tr>\n",
       "<tr>\n",
       "  <th>x8</th>  <td>    0.0051</td> <td>    0.001</td> <td>    3.646</td> <td> 0.000</td> <td>    0.002     0.008</td>\n",
       "</tr>\n",
       "<tr>\n",
       "  <th>x9</th>  <td>    0.0212</td> <td>    0.002</td> <td>    9.523</td> <td> 0.000</td> <td>    0.017     0.026</td>\n",
       "</tr>\n",
       "<tr>\n",
       "  <th>x10</th> <td>   -0.0144</td> <td>    0.002</td> <td>   -7.004</td> <td> 0.000</td> <td>   -0.018    -0.010</td>\n",
       "</tr>\n",
       "<tr>\n",
       "  <th>x11</th> <td>   -0.0054</td> <td>    0.002</td> <td>   -2.444</td> <td> 0.015</td> <td>   -0.010    -0.001</td>\n",
       "</tr>\n",
       "<tr>\n",
       "  <th>x12</th> <td>   -0.0044</td> <td>    0.002</td> <td>   -1.873</td> <td> 0.061</td> <td>   -0.009     0.000</td>\n",
       "</tr>\n",
       "<tr>\n",
       "  <th>x13</th> <td>   -0.0230</td> <td>    0.002</td> <td>  -10.156</td> <td> 0.000</td> <td>   -0.027    -0.019</td>\n",
       "</tr>\n",
       "<tr>\n",
       "  <th>x14</th> <td>   -0.0212</td> <td>    0.002</td> <td>   -9.389</td> <td> 0.000</td> <td>   -0.026    -0.017</td>\n",
       "</tr>\n",
       "<tr>\n",
       "  <th>x15</th> <td>   -0.0099</td> <td>    0.002</td> <td>   -4.274</td> <td> 0.000</td> <td>   -0.014    -0.005</td>\n",
       "</tr>\n",
       "<tr>\n",
       "  <th>x16</th> <td>   -0.0133</td> <td>    0.002</td> <td>   -5.505</td> <td> 0.000</td> <td>   -0.018    -0.009</td>\n",
       "</tr>\n",
       "<tr>\n",
       "  <th>x17</th> <td>   -0.0185</td> <td>    0.002</td> <td>   -7.460</td> <td> 0.000</td> <td>   -0.023    -0.014</td>\n",
       "</tr>\n",
       "<tr>\n",
       "  <th>x18</th> <td>   -0.0298</td> <td>    0.002</td> <td>  -12.890</td> <td> 0.000</td> <td>   -0.034    -0.025</td>\n",
       "</tr>\n",
       "<tr>\n",
       "  <th>x19</th> <td>   -0.0217</td> <td>    0.002</td> <td>   -9.389</td> <td> 0.000</td> <td>   -0.026    -0.017</td>\n",
       "</tr>\n",
       "<tr>\n",
       "  <th>x20</th> <td>    0.0021</td> <td>    0.002</td> <td>    0.927</td> <td> 0.354</td> <td>   -0.002     0.007</td>\n",
       "</tr>\n",
       "<tr>\n",
       "  <th>x21</th> <td>    0.0013</td> <td>    0.002</td> <td>    0.590</td> <td> 0.555</td> <td>   -0.003     0.006</td>\n",
       "</tr>\n",
       "<tr>\n",
       "  <th>x22</th> <td>    0.0505</td> <td>    0.002</td> <td>   25.560</td> <td> 0.000</td> <td>    0.047     0.054</td>\n",
       "</tr>\n",
       "<tr>\n",
       "  <th>x23</th> <td>    0.0397</td> <td>    0.002</td> <td>   16.959</td> <td> 0.000</td> <td>    0.035     0.044</td>\n",
       "</tr>\n",
       "<tr>\n",
       "  <th>x24</th> <td>   -0.0395</td> <td>    0.002</td> <td>  -22.817</td> <td> 0.000</td> <td>   -0.043    -0.036</td>\n",
       "</tr>\n",
       "<tr>\n",
       "  <th>x25</th> <td>    0.0534</td> <td>    0.002</td> <td>   23.790</td> <td> 0.000</td> <td>    0.049     0.058</td>\n",
       "</tr>\n",
       "<tr>\n",
       "  <th>x26</th> <td>   -0.0074</td> <td>    0.002</td> <td>   -3.151</td> <td> 0.002</td> <td>   -0.012    -0.003</td>\n",
       "</tr>\n",
       "<tr>\n",
       "  <th>x27</th> <td>    0.0388</td> <td>    0.002</td> <td>   16.527</td> <td> 0.000</td> <td>    0.034     0.043</td>\n",
       "</tr>\n",
       "<tr>\n",
       "  <th>x28</th> <td>   -0.0084</td> <td>    0.002</td> <td>   -4.502</td> <td> 0.000</td> <td>   -0.012    -0.005</td>\n",
       "</tr>\n",
       "<tr>\n",
       "  <th>x29</th> <td>    0.0815</td> <td>    0.002</td> <td>   38.578</td> <td> 0.000</td> <td>    0.077     0.086</td>\n",
       "</tr>\n",
       "<tr>\n",
       "  <th>x30</th> <td>   -0.0531</td> <td>    0.002</td> <td>  -29.989</td> <td> 0.000</td> <td>   -0.057    -0.050</td>\n",
       "</tr>\n",
       "<tr>\n",
       "  <th>x31</th> <td>   -0.0157</td> <td>    0.002</td> <td>   -6.888</td> <td> 0.000</td> <td>   -0.020    -0.011</td>\n",
       "</tr>\n",
       "<tr>\n",
       "  <th>x32</th> <td>   -0.0446</td> <td>    0.002</td> <td>  -20.381</td> <td> 0.000</td> <td>   -0.049    -0.040</td>\n",
       "</tr>\n",
       "<tr>\n",
       "  <th>x33</th> <td>   -0.0330</td> <td>    0.002</td> <td>  -15.017</td> <td> 0.000</td> <td>   -0.037    -0.029</td>\n",
       "</tr>\n",
       "<tr>\n",
       "  <th>x34</th> <td>    0.0568</td> <td>    0.002</td> <td>   24.016</td> <td> 0.000</td> <td>    0.052     0.061</td>\n",
       "</tr>\n",
       "<tr>\n",
       "  <th>x35</th> <td>   -0.0130</td> <td>    0.002</td> <td>   -8.354</td> <td> 0.000</td> <td>   -0.016    -0.010</td>\n",
       "</tr>\n",
       "<tr>\n",
       "  <th>x36</th> <td>    0.0130</td> <td>    0.002</td> <td>    8.354</td> <td> 0.000</td> <td>    0.010     0.016</td>\n",
       "</tr>\n",
       "<tr>\n",
       "  <th>x37</th> <td>   -0.0051</td> <td>    0.002</td> <td>   -2.337</td> <td> 0.019</td> <td>   -0.009    -0.001</td>\n",
       "</tr>\n",
       "<tr>\n",
       "  <th>x38</th> <td>    0.0035</td> <td>    0.002</td> <td>    1.498</td> <td> 0.134</td> <td>   -0.001     0.008</td>\n",
       "</tr>\n",
       "<tr>\n",
       "  <th>x39</th> <td>    0.0019</td> <td>    0.002</td> <td>    0.813</td> <td> 0.416</td> <td>   -0.003     0.006</td>\n",
       "</tr>\n",
       "<tr>\n",
       "  <th>x40</th> <td>   -0.0043</td> <td>    0.002</td> <td>   -1.860</td> <td> 0.063</td> <td>   -0.009     0.000</td>\n",
       "</tr>\n",
       "<tr>\n",
       "  <th>x41</th> <td>   -0.0040</td> <td>    0.002</td> <td>   -1.743</td> <td> 0.081</td> <td>   -0.009     0.001</td>\n",
       "</tr>\n",
       "<tr>\n",
       "  <th>x42</th> <td>    0.0007</td> <td>    0.002</td> <td>    0.317</td> <td> 0.751</td> <td>   -0.004     0.005</td>\n",
       "</tr>\n",
       "<tr>\n",
       "  <th>x43</th> <td>   -0.0022</td> <td>    0.002</td> <td>   -0.947</td> <td> 0.344</td> <td>   -0.007     0.002</td>\n",
       "</tr>\n",
       "<tr>\n",
       "  <th>x44</th> <td>   -0.0011</td> <td>    0.002</td> <td>   -0.478</td> <td> 0.633</td> <td>   -0.006     0.003</td>\n",
       "</tr>\n",
       "<tr>\n",
       "  <th>x45</th> <td>    0.0002</td> <td>    0.002</td> <td>    0.067</td> <td> 0.947</td> <td>   -0.004     0.005</td>\n",
       "</tr>\n",
       "<tr>\n",
       "  <th>x46</th> <td>    0.0036</td> <td>    0.002</td> <td>    1.541</td> <td> 0.123</td> <td>   -0.001     0.008</td>\n",
       "</tr>\n",
       "<tr>\n",
       "  <th>x47</th> <td>    0.0033</td> <td>    0.002</td> <td>    1.429</td> <td> 0.153</td> <td>   -0.001     0.008</td>\n",
       "</tr>\n",
       "<tr>\n",
       "  <th>x48</th> <td>    0.0036</td> <td>    0.002</td> <td>    1.573</td> <td> 0.116</td> <td>   -0.001     0.008</td>\n",
       "</tr>\n",
       "<tr>\n",
       "  <th>x49</th> <td>   -0.0018</td> <td>    0.002</td> <td>   -0.771</td> <td> 0.441</td> <td>   -0.006     0.003</td>\n",
       "</tr>\n",
       "<tr>\n",
       "  <th>x50</th> <td>    0.0014</td> <td>    0.002</td> <td>    0.588</td> <td> 0.556</td> <td>   -0.003     0.006</td>\n",
       "</tr>\n",
       "<tr>\n",
       "  <th>x51</th> <td>   -0.0018</td> <td>    0.002</td> <td>   -0.770</td> <td> 0.441</td> <td>   -0.006     0.003</td>\n",
       "</tr>\n",
       "<tr>\n",
       "  <th>x52</th> <td>   -0.0014</td> <td>    0.002</td> <td>   -0.600</td> <td> 0.548</td> <td>   -0.006     0.003</td>\n",
       "</tr>\n",
       "<tr>\n",
       "  <th>x53</th> <td>   -0.0004</td> <td>    0.002</td> <td>   -0.169</td> <td> 0.866</td> <td>   -0.005     0.004</td>\n",
       "</tr>\n",
       "<tr>\n",
       "  <th>x54</th> <td>   -0.0007</td> <td>    0.002</td> <td>   -0.314</td> <td> 0.754</td> <td>   -0.005     0.004</td>\n",
       "</tr>\n",
       "<tr>\n",
       "  <th>x55</th> <td>   -0.0007</td> <td>    0.002</td> <td>   -0.285</td> <td> 0.776</td> <td>   -0.005     0.004</td>\n",
       "</tr>\n",
       "<tr>\n",
       "  <th>x56</th> <td>   -0.0027</td> <td>    0.002</td> <td>   -1.175</td> <td> 0.240</td> <td>   -0.007     0.002</td>\n",
       "</tr>\n",
       "<tr>\n",
       "  <th>x57</th> <td>    0.0009</td> <td>    0.002</td> <td>    0.407</td> <td> 0.684</td> <td>   -0.004     0.006</td>\n",
       "</tr>\n",
       "<tr>\n",
       "  <th>x58</th> <td>    0.0015</td> <td>    0.002</td> <td>    0.623</td> <td> 0.533</td> <td>   -0.003     0.006</td>\n",
       "</tr>\n",
       "<tr>\n",
       "  <th>x59</th> <td>    0.0036</td> <td>    0.002</td> <td>    1.550</td> <td> 0.121</td> <td>   -0.001     0.008</td>\n",
       "</tr>\n",
       "<tr>\n",
       "  <th>x60</th> <td>   -0.0003</td> <td>    0.002</td> <td>   -0.141</td> <td> 0.888</td> <td>   -0.005     0.004</td>\n",
       "</tr>\n",
       "<tr>\n",
       "  <th>x61</th> <td>    0.0034</td> <td>    0.002</td> <td>    1.470</td> <td> 0.141</td> <td>   -0.001     0.008</td>\n",
       "</tr>\n",
       "<tr>\n",
       "  <th>x62</th> <td>   -0.0024</td> <td>    0.002</td> <td>   -1.015</td> <td> 0.310</td> <td>   -0.007     0.002</td>\n",
       "</tr>\n",
       "<tr>\n",
       "  <th>x63</th> <td>   -0.0057</td> <td>    0.002</td> <td>   -2.442</td> <td> 0.015</td> <td>   -0.010    -0.001</td>\n",
       "</tr>\n",
       "<tr>\n",
       "  <th>x64</th> <td>   -0.0030</td> <td>    0.002</td> <td>   -1.270</td> <td> 0.204</td> <td>   -0.008     0.002</td>\n",
       "</tr>\n",
       "<tr>\n",
       "  <th>x65</th> <td>   -0.0028</td> <td>    0.002</td> <td>   -1.196</td> <td> 0.232</td> <td>   -0.007     0.002</td>\n",
       "</tr>\n",
       "<tr>\n",
       "  <th>x66</th> <td>   -0.0018</td> <td>    0.002</td> <td>   -0.791</td> <td> 0.429</td> <td>   -0.006     0.003</td>\n",
       "</tr>\n",
       "<tr>\n",
       "  <th>x67</th> <td>    0.0018</td> <td>    0.002</td> <td>    0.786</td> <td> 0.432</td> <td>   -0.003     0.006</td>\n",
       "</tr>\n",
       "<tr>\n",
       "  <th>x68</th> <td>   -0.0016</td> <td>    0.002</td> <td>   -0.699</td> <td> 0.484</td> <td>   -0.006     0.003</td>\n",
       "</tr>\n",
       "<tr>\n",
       "  <th>x69</th> <td>   -0.0014</td> <td>    0.002</td> <td>   -0.605</td> <td> 0.545</td> <td>   -0.006     0.003</td>\n",
       "</tr>\n",
       "<tr>\n",
       "  <th>x70</th> <td>   -0.0018</td> <td>    0.002</td> <td>   -0.765</td> <td> 0.444</td> <td>   -0.006     0.003</td>\n",
       "</tr>\n",
       "<tr>\n",
       "  <th>x71</th> <td>    0.0001</td> <td>    0.002</td> <td>    0.062</td> <td> 0.951</td> <td>   -0.004     0.005</td>\n",
       "</tr>\n",
       "<tr>\n",
       "  <th>x72</th> <td>   -0.0040</td> <td>    0.002</td> <td>   -1.740</td> <td> 0.082</td> <td>   -0.009     0.001</td>\n",
       "</tr>\n",
       "<tr>\n",
       "  <th>x73</th> <td>   -0.0020</td> <td>    0.002</td> <td>   -0.867</td> <td> 0.386</td> <td>   -0.007     0.003</td>\n",
       "</tr>\n",
       "<tr>\n",
       "  <th>x74</th> <td>   -0.0007</td> <td>    0.002</td> <td>   -0.284</td> <td> 0.776</td> <td>   -0.005     0.004</td>\n",
       "</tr>\n",
       "<tr>\n",
       "  <th>x75</th> <td>   -0.0015</td> <td>    0.002</td> <td>   -0.623</td> <td> 0.533</td> <td>   -0.006     0.003</td>\n",
       "</tr>\n",
       "<tr>\n",
       "  <th>x76</th> <td>    0.0063</td> <td>    0.001</td> <td>    4.884</td> <td> 0.000</td> <td>    0.004     0.009</td>\n",
       "</tr>\n",
       "<tr>\n",
       "  <th>x77</th> <td>   -0.0046</td> <td>    0.002</td> <td>   -1.982</td> <td> 0.048</td> <td>   -0.009 -5.04e-05</td>\n",
       "</tr>\n",
       "<tr>\n",
       "  <th>x78</th> <td>    0.0017</td> <td>    0.002</td> <td>    0.723</td> <td> 0.470</td> <td>   -0.003     0.006</td>\n",
       "</tr>\n",
       "</table>\n",
       "<table class=\"simpletable\">\n",
       "<tr>\n",
       "  <th>Omnibus:</th>       <td>1731.955</td> <th>  Durbin-Watson:     </th> <td>   1.347</td>\n",
       "</tr>\n",
       "<tr>\n",
       "  <th>Prob(Omnibus):</th>  <td> 0.000</td>  <th>  Jarque-Bera (JB):  </th> <td>2014.100</td>\n",
       "</tr>\n",
       "<tr>\n",
       "  <th>Skew:</th>           <td> 0.606</td>  <th>  Prob(JB):          </th> <td>    0.00</td>\n",
       "</tr>\n",
       "<tr>\n",
       "  <th>Kurtosis:</th>       <td> 2.875</td>  <th>  Cond. No.          </th> <td>1.32e+16</td>\n",
       "</tr>\n",
       "</table>"
      ],
      "text/plain": [
       "<class 'statsmodels.iolib.summary.Summary'>\n",
       "\"\"\"\n",
       "                            OLS Regression Results                            \n",
       "==============================================================================\n",
       "Dep. Variable:                      y   R-squared:                       0.263\n",
       "Model:                            OLS   Adj. R-squared:                  0.262\n",
       "Method:                 Least Squares   F-statistic:                     159.1\n",
       "Date:                Fri, 03 Feb 2017   Prob (F-statistic):               0.00\n",
       "Time:                        14:17:47   Log-Likelihood:                -18046.\n",
       "No. Observations:               32561   AIC:                         3.624e+04\n",
       "Df Residuals:                   32488   BIC:                         3.685e+04\n",
       "Df Model:                          73                                         \n",
       "Covariance Type:            nonrobust                                         \n",
       "==============================================================================\n",
       "                 coef    std err          t      P>|t|      [95.0% Conf. Int.]\n",
       "------------------------------------------------------------------------------\n",
       "x1             0.0354      0.003     12.789      0.000         0.030     0.041\n",
       "x2             0.0608      0.002     25.321      0.000         0.056     0.066\n",
       "x3             0.0396      0.002     16.762      0.000         0.035     0.044\n",
       "x4            -0.0139      0.002     -6.473      0.000        -0.018    -0.010\n",
       "x5             0.0154      0.002      6.939      0.000         0.011     0.020\n",
       "x6            -0.0024      0.002     -1.137      0.256        -0.007     0.002\n",
       "x7          4.792e-05      0.002      0.020      0.984        -0.005     0.005\n",
       "x8             0.0051      0.001      3.646      0.000         0.002     0.008\n",
       "x9             0.0212      0.002      9.523      0.000         0.017     0.026\n",
       "x10           -0.0144      0.002     -7.004      0.000        -0.018    -0.010\n",
       "x11           -0.0054      0.002     -2.444      0.015        -0.010    -0.001\n",
       "x12           -0.0044      0.002     -1.873      0.061        -0.009     0.000\n",
       "x13           -0.0230      0.002    -10.156      0.000        -0.027    -0.019\n",
       "x14           -0.0212      0.002     -9.389      0.000        -0.026    -0.017\n",
       "x15           -0.0099      0.002     -4.274      0.000        -0.014    -0.005\n",
       "x16           -0.0133      0.002     -5.505      0.000        -0.018    -0.009\n",
       "x17           -0.0185      0.002     -7.460      0.000        -0.023    -0.014\n",
       "x18           -0.0298      0.002    -12.890      0.000        -0.034    -0.025\n",
       "x19           -0.0217      0.002     -9.389      0.000        -0.026    -0.017\n",
       "x20            0.0021      0.002      0.927      0.354        -0.002     0.007\n",
       "x21            0.0013      0.002      0.590      0.555        -0.003     0.006\n",
       "x22            0.0505      0.002     25.560      0.000         0.047     0.054\n",
       "x23            0.0397      0.002     16.959      0.000         0.035     0.044\n",
       "x24           -0.0395      0.002    -22.817      0.000        -0.043    -0.036\n",
       "x25            0.0534      0.002     23.790      0.000         0.049     0.058\n",
       "x26           -0.0074      0.002     -3.151      0.002        -0.012    -0.003\n",
       "x27            0.0388      0.002     16.527      0.000         0.034     0.043\n",
       "x28           -0.0084      0.002     -4.502      0.000        -0.012    -0.005\n",
       "x29            0.0815      0.002     38.578      0.000         0.077     0.086\n",
       "x30           -0.0531      0.002    -29.989      0.000        -0.057    -0.050\n",
       "x31           -0.0157      0.002     -6.888      0.000        -0.020    -0.011\n",
       "x32           -0.0446      0.002    -20.381      0.000        -0.049    -0.040\n",
       "x33           -0.0330      0.002    -15.017      0.000        -0.037    -0.029\n",
       "x34            0.0568      0.002     24.016      0.000         0.052     0.061\n",
       "x35           -0.0130      0.002     -8.354      0.000        -0.016    -0.010\n",
       "x36            0.0130      0.002      8.354      0.000         0.010     0.016\n",
       "x37           -0.0051      0.002     -2.337      0.019        -0.009    -0.001\n",
       "x38            0.0035      0.002      1.498      0.134        -0.001     0.008\n",
       "x39            0.0019      0.002      0.813      0.416        -0.003     0.006\n",
       "x40           -0.0043      0.002     -1.860      0.063        -0.009     0.000\n",
       "x41           -0.0040      0.002     -1.743      0.081        -0.009     0.001\n",
       "x42            0.0007      0.002      0.317      0.751        -0.004     0.005\n",
       "x43           -0.0022      0.002     -0.947      0.344        -0.007     0.002\n",
       "x44           -0.0011      0.002     -0.478      0.633        -0.006     0.003\n",
       "x45            0.0002      0.002      0.067      0.947        -0.004     0.005\n",
       "x46            0.0036      0.002      1.541      0.123        -0.001     0.008\n",
       "x47            0.0033      0.002      1.429      0.153        -0.001     0.008\n",
       "x48            0.0036      0.002      1.573      0.116        -0.001     0.008\n",
       "x49           -0.0018      0.002     -0.771      0.441        -0.006     0.003\n",
       "x50            0.0014      0.002      0.588      0.556        -0.003     0.006\n",
       "x51           -0.0018      0.002     -0.770      0.441        -0.006     0.003\n",
       "x52           -0.0014      0.002     -0.600      0.548        -0.006     0.003\n",
       "x53           -0.0004      0.002     -0.169      0.866        -0.005     0.004\n",
       "x54           -0.0007      0.002     -0.314      0.754        -0.005     0.004\n",
       "x55           -0.0007      0.002     -0.285      0.776        -0.005     0.004\n",
       "x56           -0.0027      0.002     -1.175      0.240        -0.007     0.002\n",
       "x57            0.0009      0.002      0.407      0.684        -0.004     0.006\n",
       "x58            0.0015      0.002      0.623      0.533        -0.003     0.006\n",
       "x59            0.0036      0.002      1.550      0.121        -0.001     0.008\n",
       "x60           -0.0003      0.002     -0.141      0.888        -0.005     0.004\n",
       "x61            0.0034      0.002      1.470      0.141        -0.001     0.008\n",
       "x62           -0.0024      0.002     -1.015      0.310        -0.007     0.002\n",
       "x63           -0.0057      0.002     -2.442      0.015        -0.010    -0.001\n",
       "x64           -0.0030      0.002     -1.270      0.204        -0.008     0.002\n",
       "x65           -0.0028      0.002     -1.196      0.232        -0.007     0.002\n",
       "x66           -0.0018      0.002     -0.791      0.429        -0.006     0.003\n",
       "x67            0.0018      0.002      0.786      0.432        -0.003     0.006\n",
       "x68           -0.0016      0.002     -0.699      0.484        -0.006     0.003\n",
       "x69           -0.0014      0.002     -0.605      0.545        -0.006     0.003\n",
       "x70           -0.0018      0.002     -0.765      0.444        -0.006     0.003\n",
       "x71            0.0001      0.002      0.062      0.951        -0.004     0.005\n",
       "x72           -0.0040      0.002     -1.740      0.082        -0.009     0.001\n",
       "x73           -0.0020      0.002     -0.867      0.386        -0.007     0.003\n",
       "x74           -0.0007      0.002     -0.284      0.776        -0.005     0.004\n",
       "x75           -0.0015      0.002     -0.623      0.533        -0.006     0.003\n",
       "x76            0.0063      0.001      4.884      0.000         0.004     0.009\n",
       "x77           -0.0046      0.002     -1.982      0.048        -0.009 -5.04e-05\n",
       "x78            0.0017      0.002      0.723      0.470        -0.003     0.006\n",
       "==============================================================================\n",
       "Omnibus:                     1731.955   Durbin-Watson:                   1.347\n",
       "Prob(Omnibus):                  0.000   Jarque-Bera (JB):             2014.100\n",
       "Skew:                           0.606   Prob(JB):                         0.00\n",
       "Kurtosis:                       2.875   Cond. No.                     1.32e+16\n",
       "==============================================================================\n",
       "\n",
       "Warnings:\n",
       "[1] Standard Errors assume that the covariance matrix of the errors is correctly specified.\n",
       "[2] The smallest eigenvalue is 5.66e-28. This might indicate that there are\n",
       "strong multicollinearity problems or that the design matrix is singular.\n",
       "\"\"\""
      ]
     },
     "execution_count": 239,
     "metadata": {},
     "output_type": "execute_result"
    }
   ],
   "source": [
    "result = sm.OLS( y, X ).fit()\n",
    "result.summary()"
   ]
  },
  {
   "cell_type": "code",
   "execution_count": 216,
   "metadata": {
    "collapsed": false
   },
   "outputs": [],
   "source": [
    "dfCoeffs['pvalue']=result.pvalues.values"
   ]
  },
  {
   "cell_type": "code",
   "execution_count": 219,
   "metadata": {
    "collapsed": false
   },
   "outputs": [],
   "source": [
    "dfCoeffs[dfCoeffs['pvalue']<0.05]\n",
    "yerr=dfCoeffs['pvalue'].values"
   ]
  },
  {
   "cell_type": "code",
   "execution_count": 173,
   "metadata": {
    "collapsed": false
   },
   "outputs": [],
   "source": [
    "# Scale columns for regression.\n",
    "scaler = StandardScaler()\n",
    "#X = df.drop(['y'],1).as_matrix().astype(np.float)\n",
    "X = scaler.fit_transform(X)\n"
   ]
  },
  {
   "cell_type": "code",
   "execution_count": 96,
   "metadata": {
    "collapsed": true
   },
   "outputs": [],
   "source": [
    "from sklearn.linear_model import Ridge"
   ]
  },
  {
   "cell_type": "code",
   "execution_count": 40,
   "metadata": {
    "collapsed": false
   },
   "outputs": [
    {
     "data": {
      "text/plain": [
       "KendalltauResult(correlation=0.0091986297194465039, pvalue=0.012786562029942758)"
      ]
     },
     "execution_count": 40,
     "metadata": {},
     "output_type": "execute_result"
    }
   ],
   "source": [
    "import scipy.stats as st\n",
    "#df.groupby(['station_id']).apply(lambda x: st.kendalltau(x['year'], x['Sum']))\n",
    "#df[cat_columns].apply(lambda x: x.cat.codes)\n",
    "st.kendalltau(df['Race'].astype('category').cat.codes,df['Education'].astype('category').cat.codes)\n",
    "st.kendalltau(df['Race'].astype('category').cat.codes,df['Education'].astype('category').cat.codes)"
   ]
  },
  {
   "cell_type": "code",
   "execution_count": 44,
   "metadata": {
    "collapsed": true
   },
   "outputs": [],
   "source": [
    "X = np.zeros(shape=(len(cat_features),len(cat_features)))"
   ]
  },
  {
   "cell_type": "code",
   "execution_count": 45,
   "metadata": {
    "collapsed": false
   },
   "outputs": [
    {
     "data": {
      "text/plain": [
       "array([[ 0.,  0.,  0.,  0.,  0.,  0.,  0.,  0.,  0.],\n",
       "       [ 0.,  0.,  0.,  0.,  0.,  0.,  0.,  0.,  0.],\n",
       "       [ 0.,  0.,  0.,  0.,  0.,  0.,  0.,  0.,  0.],\n",
       "       [ 0.,  0.,  0.,  0.,  0.,  0.,  0.,  0.,  0.],\n",
       "       [ 0.,  0.,  0.,  0.,  0.,  0.,  0.,  0.,  0.],\n",
       "       [ 0.,  0.,  0.,  0.,  0.,  0.,  0.,  0.,  0.],\n",
       "       [ 0.,  0.,  0.,  0.,  0.,  0.,  0.,  0.,  0.],\n",
       "       [ 0.,  0.,  0.,  0.,  0.,  0.,  0.,  0.,  0.],\n",
       "       [ 0.,  0.,  0.,  0.,  0.,  0.,  0.,  0.,  0.]])"
      ]
     },
     "execution_count": 45,
     "metadata": {},
     "output_type": "execute_result"
    }
   ],
   "source": [
    "X"
   ]
  },
  {
   "cell_type": "code",
   "execution_count": 47,
   "metadata": {
    "collapsed": false
   },
   "outputs": [
    {
     "data": {
      "text/plain": [
       "0.99999999999999911"
      ]
     },
     "execution_count": 47,
     "metadata": {},
     "output_type": "execute_result"
    }
   ],
   "source": [
    "st.kendalltau(df[col].astype('category').cat.codes,df[col_cor].astype('category').cat.codes)[0]"
   ]
  },
  {
   "cell_type": "code",
   "execution_count": 56,
   "metadata": {
    "collapsed": false
   },
   "outputs": [
    {
     "data": {
      "text/plain": [
       "9"
      ]
     },
     "execution_count": 56,
     "metadata": {},
     "output_type": "execute_result"
    }
   ],
   "source": [
    "len(cat_features)"
   ]
  },
  {
   "cell_type": "code",
   "execution_count": 54,
   "metadata": {
    "collapsed": false
   },
   "outputs": [],
   "source": [
    "i=0\n",
    "j=0\n",
    "for col in cat_features:\n",
    "    for col_cor in cat_features:\n",
    "        ktau= st.kendalltau(df[col].astype('category').cat.codes,df[col_cor].astype('category').cat.codes)\n",
    "        X[i,j]=ktau[0]\n",
    "        j=j+1\n",
    "    i=i+1\n",
    "    j=0"
   ]
  },
  {
   "cell_type": "code",
   "execution_count": 55,
   "metadata": {
    "collapsed": false
   },
   "outputs": [
    {
     "data": {
      "image/png": "[encoded data removed]",
      "text/plain": [
       "<matplotlib.figure.Figure at 0x117152a10>"
      ]
     },
     "metadata": {},
     "output_type": "display_data"
    }
   ],
   "source": [
    "from pylab import pcolor, show, colorbar, xticks, yticks\n",
    "from numpy import corrcoef, sum, log, arange\n",
    "from numpy.random import rand\n",
    "\n",
    "\n",
    "# plotting the correlation matrix\n",
    "R = corrcoef(X)\n",
    "pcolor(R)\n",
    "colorbar()\n",
    "yticks(arange(0.5,10.5),range(0,10))\n",
    "xticks(arange(0.5,10.5),range(0,10))\n",
    "show()"
   ]
  },
  {
   "cell_type": "code",
   "execution_count": 260,
   "metadata": {
    "collapsed": false
   },
   "outputs": [],
   "source": [
    "df_train = df.copy()"
   ]
  },
  {
   "cell_type": "code",
   "execution_count": 261,
   "metadata": {
    "collapsed": false
   },
   "outputs": [
    {
     "data": {
      "text/plain": [
       "32561"
      ]
     },
     "execution_count": 261,
     "metadata": {},
     "output_type": "execute_result"
    }
   ],
   "source": [
    "len(df_train)"
   ]
  },
  {
   "cell_type": "code",
   "execution_count": 262,
   "metadata": {
    "collapsed": true
   },
   "outputs": [],
   "source": [
    "df_train['outcome'] = 0"
   ]
  },
  {
   "cell_type": "code",
   "execution_count": 263,
   "metadata": {
    "collapsed": false
   },
   "outputs": [
    {
     "name": "stderr",
     "output_type": "stream",
     "text": [
      "/anaconda/lib/python2.7/site-packages/ipykernel/__main__.py:1: SettingWithCopyWarning: \n",
      "A value is trying to be set on a copy of a slice from a DataFrame\n",
      "\n",
      "See the the caveats in the documentation: http://pandas.pydata.org/pandas-docs/stable/indexing.html#indexing-view-versus-copy\n",
      "  if __name__ == '__main__':\n"
     ]
    }
   ],
   "source": [
    "df_train['outcome'][0:1000] = 1"
   ]
  },
  {
   "cell_type": "code",
   "execution_count": 271,
   "metadata": {
    "collapsed": false
   },
   "outputs": [
    {
     "data": {
      "text/plain": [
       "<matplotlib.axes._subplots.AxesSubplot at 0x12e521750>"
      ]
     },
     "execution_count": 271,
     "metadata": {},
     "output_type": "execute_result"
    },
    {
     "data": {
      "image/png": "[encoded data removed]",
      "text/plain": [
       "<matplotlib.figure.Figure at 0x12e396550>"
      ]
     },
     "metadata": {},
     "output_type": "display_data"
    }
   ],
   "source": [
    "plt.xlabel('Outcome')\n",
    "plt.ylabel('Fraction of Dataset')\n",
    "plt.title('Distribution of Outcomes')\n",
    "(df_train['outcome']/df_train['outcome'].sum()).hist()"
   ]
  }
 ],
 "metadata": {
  "anaconda-cloud": {},
  "kernelspec": {
   "display_name": "Python [conda root]",
   "language": "python",
   "name": "conda-root-py"
  },
  "language_info": {
   "codemirror_mode": {
    "name": "ipython",
    "version": 2
   },
   "file_extension": ".py",
   "mimetype": "text/x-python",
   "name": "python",
   "nbconvert_exporter": "python",
   "pygments_lexer": "ipython2",
   "version": "2.7.12"
  }
 },
 "nbformat": 4,
 "nbformat_minor": 1
}
